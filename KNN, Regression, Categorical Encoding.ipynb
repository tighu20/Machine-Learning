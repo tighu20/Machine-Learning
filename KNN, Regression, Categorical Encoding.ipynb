{
 "cells": [
  {
   "cell_type": "markdown",
   "metadata": {},
   "source": [
    "<div style=\"text-align: center;\">\n",
    "<h2>INFSCI 2595 Machine Learning - Fall 2018 </h2>\n",
    "<h1 style=\"font-size: 250%;\">Assignment #1</h1>\n",
    "<h3>Due: Sunday 09/30/2018</h3>\n",
    "<h3>Total points: 100 </h3>\n",
    "</div>"
   ]
  },
  {
   "cell_type": "code",
   "execution_count": 32,
   "metadata": {},
   "outputs": [],
   "source": [
    "# Type in your information in the double quotes\n",
    "firstName = \"Tigmanshu\"\n",
    "lastName = \"Chaudhary\"\n",
    "pittID = \"tic48\""
   ]
  },
  {
   "cell_type": "code",
   "execution_count": 44,
   "metadata": {},
   "outputs": [],
   "source": [
    "#Libraries \n",
    "import math\n",
    "import numpy as np \n",
    "import pandas as pd\n",
    "import seaborn as sns\n",
    "import numpy \n",
    "import statsmodels.api as sm\n",
    "import matplotlib.pyplot as plt\n",
    "from IPython.display import Image\n",
    "import statsmodels.formula.api as smf\n",
    "from sklearn.datasets import load_boston\n",
    "from sklearn.linear_model import LinearRegression\n",
    "from sklearn.model_selection import train_test_split\n",
    "from sklearn import datasets\n",
    "from pandas import read_csv\n",
    "from sklearn.preprocessing import OneHotEncoder\n",
    "from sklearn.preprocessing import LabelEncoder"
   ]
  },
  {
   "cell_type": "markdown",
   "metadata": {},
   "source": [
    "---"
   ]
  },
  {
   "cell_type": "markdown",
   "metadata": {},
   "source": [
    "<h3>  Problem #1. K-nearest neighbors  [20 points] </h3> \n",
    "\n",
    "The table below provides a training data set containing six observations, three predictors, and one qualitative response variable.\n",
    "Suppose we wish to use this data set to make a prediction for Y when X1 = 1.2, X2 = 1.3, X3 = 2.4 using K-nearest neighbors.\n",
    "hint: in problems 1-2 and 1-3, use \"stats.mode\" from scipy library and \"nsmallest\" function in dataframe to get n smallest values from the distance table calculated in 1-1."
   ]
  },
  {
   "cell_type": "markdown",
   "metadata": {},
   "source": [
    "|Obs.|X1|X2|X3|Y\n",
    "|--|-------------------------------|\n",
    "|1 |0.1|2.9|0|Green|\n",
    "|2 |2.2|0|0|Green|\n",
    "|3|0|1.3|3.3|Green|\n",
    "|4|0|1.4|2.5|Red|\n",
    "|5|-1.2|0|1.4|Red|\n",
    "|6|1.1|1.2|1.1|Green|\n",
    "|7|1.5|0|0|Green|\n",
    "|8|0|1.3|1.9|Red|\n",
    "|9|0|2.8|0|Green|"
   ]
  },
  {
   "cell_type": "markdown",
   "metadata": {},
   "source": [
    "<b>Problem #1-1.</b> Compute the Euclidean distance between each observation and the test point, X1 = 1.2, X2 = 1.3, X3 = 2.4\n",
    "The output should be a (9*1) column vector where each row shows the distance between the observations and the test point.\n"
   ]
  },
  {
   "cell_type": "code",
   "execution_count": 45,
   "metadata": {},
   "outputs": [
    {
     "name": "stdout",
     "output_type": "stream",
     "text": [
      "    X1   X2   X3      Y\n",
      "0  0.1  2.9  0.0  Green\n",
      "1  2.2  0.0  0.0  Green\n",
      "2  0.0  1.3  3.3  Green\n",
      "3  0.0  1.4  2.5    Red\n",
      "4 -1.2  0.0  1.4    Red\n",
      "5  1.1  1.2  1.1  Green\n",
      "6  1.5  0.0  0.0  Green\n",
      "7  0.0  1.3  1.9    Red\n",
      "8  0.0  2.8  0.0  Green\n",
      "[[3.08706981]\n",
      " [2.90688837]\n",
      " [1.5       ]\n",
      " [1.2083046 ]\n",
      " [2.90688837]\n",
      " [1.30766968]\n",
      " [2.74590604]\n",
      " [1.3       ]\n",
      " [3.07408523]]\n"
     ]
    },
    {
     "data": {
      "text/plain": [
       "(9, 1)"
      ]
     },
     "execution_count": 45,
     "metadata": {},
     "output_type": "execute_result"
    }
   ],
   "source": [
    "\n",
    "obs=pd.DataFrame ( {'X1' :[0.1,2.2,0,0,-1.2,1.1,1.5,0,0] , 'X2' :[2.9,0,1.3,1.4,0,1.2,0,1.3,2.8], 'X3' :[0,0,3.3,2.5,1.4,1.1,0,1.9,0] , 'Y' :['Green','Green','Green','Red','Red','Green','Green','Red','Green'] } )\n",
    "print(obs)\n",
    "Distance=[]     # for storing distances \n",
    "\n",
    "for n in range(9):           # for loop which calculates distance from each set of points and appends it to an array\n",
    "     x=pow(obs['X1'].values[n] - 1.2 ,2) + pow(obs['X2'].values[n] - 1.3 ,2) + pow(obs['X3'].values[n] - 2.4 ,2)\n",
    "     Distance.append(math.sqrt(x))\n",
    "    \n",
    "\n",
    "Euclidean=numpy.asarray(Distance) \n",
    "Euclidean=Euclidean.reshape(9,1)\n",
    "print(Euclidean)\n",
    "Euclidean.shape         # to confirm shape is 9 * 1  \n"
   ]
  },
  {
   "cell_type": "markdown",
   "metadata": {},
   "source": [
    "========================================================================================================================="
   ]
  },
  {
   "cell_type": "markdown",
   "metadata": {},
   "source": [
    "<b>Problem #1-2.</b> What is our prediction with K = 1? and explain why."
   ]
  },
  {
   "cell_type": "code",
   "execution_count": 46,
   "metadata": {},
   "outputs": [
    {
     "ename": "KeyError",
     "evalue": "3.087069808086626",
     "output_type": "error",
     "traceback": [
      "\u001b[1;31m---------------------------------------------------------------------------\u001b[0m",
      "\u001b[1;31mKeyError\u001b[0m                                  Traceback (most recent call last)",
      "\u001b[1;32m~\\Anaconda3\\lib\\site-packages\\pandas\\core\\indexes\\base.py\u001b[0m in \u001b[0;36mget_loc\u001b[1;34m(self, key, method, tolerance)\u001b[0m\n\u001b[0;32m   3062\u001b[0m             \u001b[1;32mtry\u001b[0m\u001b[1;33m:\u001b[0m\u001b[1;33m\u001b[0m\u001b[0m\n\u001b[1;32m-> 3063\u001b[1;33m                 \u001b[1;32mreturn\u001b[0m \u001b[0mself\u001b[0m\u001b[1;33m.\u001b[0m\u001b[0m_engine\u001b[0m\u001b[1;33m.\u001b[0m\u001b[0mget_loc\u001b[0m\u001b[1;33m(\u001b[0m\u001b[0mkey\u001b[0m\u001b[1;33m)\u001b[0m\u001b[1;33m\u001b[0m\u001b[0m\n\u001b[0m\u001b[0;32m   3064\u001b[0m             \u001b[1;32mexcept\u001b[0m \u001b[0mKeyError\u001b[0m\u001b[1;33m:\u001b[0m\u001b[1;33m\u001b[0m\u001b[0m\n",
      "\u001b[1;32mpandas\\_libs\\index.pyx\u001b[0m in \u001b[0;36mpandas._libs.index.IndexEngine.get_loc\u001b[1;34m()\u001b[0m\n",
      "\u001b[1;32mpandas\\_libs\\index.pyx\u001b[0m in \u001b[0;36mpandas._libs.index.IndexEngine.get_loc\u001b[1;34m()\u001b[0m\n",
      "\u001b[1;32mpandas\\_libs\\hashtable_class_helper.pxi\u001b[0m in \u001b[0;36mpandas._libs.hashtable.PyObjectHashTable.get_item\u001b[1;34m()\u001b[0m\n",
      "\u001b[1;32mpandas\\_libs\\hashtable_class_helper.pxi\u001b[0m in \u001b[0;36mpandas._libs.hashtable.PyObjectHashTable.get_item\u001b[1;34m()\u001b[0m\n",
      "\u001b[1;31mKeyError\u001b[0m: 3.087069808086626",
      "\nDuring handling of the above exception, another exception occurred:\n",
      "\u001b[1;31mKeyError\u001b[0m                                  Traceback (most recent call last)",
      "\u001b[1;32m<ipython-input-46-face61415aaf>\u001b[0m in \u001b[0;36m<module>\u001b[1;34m()\u001b[0m\n\u001b[0;32m      1\u001b[0m \u001b[1;33m\u001b[0m\u001b[0m\n\u001b[0;32m      2\u001b[0m \u001b[1;31m#Distance=['Distance']\u001b[0m\u001b[1;33m\u001b[0m\u001b[1;33m\u001b[0m\u001b[0m\n\u001b[1;32m----> 3\u001b[1;33m \u001b[0mx\u001b[0m\u001b[1;33m=\u001b[0m\u001b[0mmyDataFrame\u001b[0m\u001b[1;33m.\u001b[0m\u001b[0mnsmallest\u001b[0m\u001b[1;33m(\u001b[0m\u001b[1;36m1\u001b[0m\u001b[1;33m,\u001b[0m\u001b[0mDistance\u001b[0m\u001b[1;33m)\u001b[0m \u001b[1;31m# using n smallest to find the closest neighbour\u001b[0m\u001b[1;33m\u001b[0m\u001b[0m\n\u001b[0m\u001b[0;32m      4\u001b[0m \u001b[0mprint\u001b[0m\u001b[1;33m(\u001b[0m\u001b[0mx\u001b[0m\u001b[1;33m)\u001b[0m\u001b[1;33m\u001b[0m\u001b[0m\n\u001b[0;32m      5\u001b[0m \u001b[0mprint\u001b[0m\u001b[1;33m(\u001b[0m\u001b[1;34m\"The 1 closest nieghbour have color as \"\u001b[0m\u001b[1;33m,\u001b[0m\u001b[0mobs\u001b[0m\u001b[1;33m[\u001b[0m\u001b[1;34m'Y'\u001b[0m\u001b[1;33m]\u001b[0m\u001b[1;33m.\u001b[0m\u001b[0mvalues\u001b[0m\u001b[1;33m[\u001b[0m\u001b[1;36m3\u001b[0m\u001b[1;33m]\u001b[0m \u001b[1;33m)\u001b[0m \u001b[1;31m# printing the colors for the closest neighbours\u001b[0m\u001b[1;33m\u001b[0m\u001b[0m\n",
      "\u001b[1;32m~\\Anaconda3\\lib\\site-packages\\pandas\\core\\frame.py\u001b[0m in \u001b[0;36mnsmallest\u001b[1;34m(self, n, columns, keep)\u001b[0m\n\u001b[0;32m   4658\u001b[0m                                        \u001b[0mn\u001b[0m\u001b[1;33m=\u001b[0m\u001b[0mn\u001b[0m\u001b[1;33m,\u001b[0m\u001b[1;33m\u001b[0m\u001b[0m\n\u001b[0;32m   4659\u001b[0m                                        \u001b[0mkeep\u001b[0m\u001b[1;33m=\u001b[0m\u001b[0mkeep\u001b[0m\u001b[1;33m,\u001b[0m\u001b[1;33m\u001b[0m\u001b[0m\n\u001b[1;32m-> 4660\u001b[1;33m                                        columns=columns).nsmallest()\n\u001b[0m\u001b[0;32m   4661\u001b[0m \u001b[1;33m\u001b[0m\u001b[0m\n\u001b[0;32m   4662\u001b[0m     \u001b[1;32mdef\u001b[0m \u001b[0mswaplevel\u001b[0m\u001b[1;33m(\u001b[0m\u001b[0mself\u001b[0m\u001b[1;33m,\u001b[0m \u001b[0mi\u001b[0m\u001b[1;33m=\u001b[0m\u001b[1;33m-\u001b[0m\u001b[1;36m2\u001b[0m\u001b[1;33m,\u001b[0m \u001b[0mj\u001b[0m\u001b[1;33m=\u001b[0m\u001b[1;33m-\u001b[0m\u001b[1;36m1\u001b[0m\u001b[1;33m,\u001b[0m \u001b[0maxis\u001b[0m\u001b[1;33m=\u001b[0m\u001b[1;36m0\u001b[0m\u001b[1;33m)\u001b[0m\u001b[1;33m:\u001b[0m\u001b[1;33m\u001b[0m\u001b[0m\n",
      "\u001b[1;32m~\\Anaconda3\\lib\\site-packages\\pandas\\core\\algorithms.py\u001b[0m in \u001b[0;36mnsmallest\u001b[1;34m(self)\u001b[0m\n\u001b[0;32m   1082\u001b[0m \u001b[1;33m\u001b[0m\u001b[0m\n\u001b[0;32m   1083\u001b[0m     \u001b[1;32mdef\u001b[0m \u001b[0mnsmallest\u001b[0m\u001b[1;33m(\u001b[0m\u001b[0mself\u001b[0m\u001b[1;33m)\u001b[0m\u001b[1;33m:\u001b[0m\u001b[1;33m\u001b[0m\u001b[0m\n\u001b[1;32m-> 1084\u001b[1;33m         \u001b[1;32mreturn\u001b[0m \u001b[0mself\u001b[0m\u001b[1;33m.\u001b[0m\u001b[0mcompute\u001b[0m\u001b[1;33m(\u001b[0m\u001b[1;34m'nsmallest'\u001b[0m\u001b[1;33m)\u001b[0m\u001b[1;33m\u001b[0m\u001b[0m\n\u001b[0m\u001b[0;32m   1085\u001b[0m \u001b[1;33m\u001b[0m\u001b[0m\n\u001b[0;32m   1086\u001b[0m     \u001b[1;33m@\u001b[0m\u001b[0mstaticmethod\u001b[0m\u001b[1;33m\u001b[0m\u001b[0m\n",
      "\u001b[1;32m~\\Anaconda3\\lib\\site-packages\\pandas\\core\\algorithms.py\u001b[0m in \u001b[0;36mcompute\u001b[1;34m(self, method)\u001b[0m\n\u001b[0;32m   1183\u001b[0m \u001b[1;33m\u001b[0m\u001b[0m\n\u001b[0;32m   1184\u001b[0m         \u001b[1;32mfor\u001b[0m \u001b[0mcolumn\u001b[0m \u001b[1;32min\u001b[0m \u001b[0mcolumns\u001b[0m\u001b[1;33m:\u001b[0m\u001b[1;33m\u001b[0m\u001b[0m\n\u001b[1;32m-> 1185\u001b[1;33m             \u001b[0mdtype\u001b[0m \u001b[1;33m=\u001b[0m \u001b[0mframe\u001b[0m\u001b[1;33m[\u001b[0m\u001b[0mcolumn\u001b[0m\u001b[1;33m]\u001b[0m\u001b[1;33m.\u001b[0m\u001b[0mdtype\u001b[0m\u001b[1;33m\u001b[0m\u001b[0m\n\u001b[0m\u001b[0;32m   1186\u001b[0m             \u001b[1;32mif\u001b[0m \u001b[1;32mnot\u001b[0m \u001b[0mself\u001b[0m\u001b[1;33m.\u001b[0m\u001b[0mis_valid_dtype_n_method\u001b[0m\u001b[1;33m(\u001b[0m\u001b[0mdtype\u001b[0m\u001b[1;33m)\u001b[0m\u001b[1;33m:\u001b[0m\u001b[1;33m\u001b[0m\u001b[0m\n\u001b[0;32m   1187\u001b[0m                 raise TypeError((\n",
      "\u001b[1;32m~\\Anaconda3\\lib\\site-packages\\pandas\\core\\frame.py\u001b[0m in \u001b[0;36m__getitem__\u001b[1;34m(self, key)\u001b[0m\n\u001b[0;32m   2683\u001b[0m             \u001b[1;32mreturn\u001b[0m \u001b[0mself\u001b[0m\u001b[1;33m.\u001b[0m\u001b[0m_getitem_multilevel\u001b[0m\u001b[1;33m(\u001b[0m\u001b[0mkey\u001b[0m\u001b[1;33m)\u001b[0m\u001b[1;33m\u001b[0m\u001b[0m\n\u001b[0;32m   2684\u001b[0m         \u001b[1;32melse\u001b[0m\u001b[1;33m:\u001b[0m\u001b[1;33m\u001b[0m\u001b[0m\n\u001b[1;32m-> 2685\u001b[1;33m             \u001b[1;32mreturn\u001b[0m \u001b[0mself\u001b[0m\u001b[1;33m.\u001b[0m\u001b[0m_getitem_column\u001b[0m\u001b[1;33m(\u001b[0m\u001b[0mkey\u001b[0m\u001b[1;33m)\u001b[0m\u001b[1;33m\u001b[0m\u001b[0m\n\u001b[0m\u001b[0;32m   2686\u001b[0m \u001b[1;33m\u001b[0m\u001b[0m\n\u001b[0;32m   2687\u001b[0m     \u001b[1;32mdef\u001b[0m \u001b[0m_getitem_column\u001b[0m\u001b[1;33m(\u001b[0m\u001b[0mself\u001b[0m\u001b[1;33m,\u001b[0m \u001b[0mkey\u001b[0m\u001b[1;33m)\u001b[0m\u001b[1;33m:\u001b[0m\u001b[1;33m\u001b[0m\u001b[0m\n",
      "\u001b[1;32m~\\Anaconda3\\lib\\site-packages\\pandas\\core\\frame.py\u001b[0m in \u001b[0;36m_getitem_column\u001b[1;34m(self, key)\u001b[0m\n\u001b[0;32m   2690\u001b[0m         \u001b[1;31m# get column\u001b[0m\u001b[1;33m\u001b[0m\u001b[1;33m\u001b[0m\u001b[0m\n\u001b[0;32m   2691\u001b[0m         \u001b[1;32mif\u001b[0m \u001b[0mself\u001b[0m\u001b[1;33m.\u001b[0m\u001b[0mcolumns\u001b[0m\u001b[1;33m.\u001b[0m\u001b[0mis_unique\u001b[0m\u001b[1;33m:\u001b[0m\u001b[1;33m\u001b[0m\u001b[0m\n\u001b[1;32m-> 2692\u001b[1;33m             \u001b[1;32mreturn\u001b[0m \u001b[0mself\u001b[0m\u001b[1;33m.\u001b[0m\u001b[0m_get_item_cache\u001b[0m\u001b[1;33m(\u001b[0m\u001b[0mkey\u001b[0m\u001b[1;33m)\u001b[0m\u001b[1;33m\u001b[0m\u001b[0m\n\u001b[0m\u001b[0;32m   2693\u001b[0m \u001b[1;33m\u001b[0m\u001b[0m\n\u001b[0;32m   2694\u001b[0m         \u001b[1;31m# duplicate columns & possible reduce dimensionality\u001b[0m\u001b[1;33m\u001b[0m\u001b[1;33m\u001b[0m\u001b[0m\n",
      "\u001b[1;32m~\\Anaconda3\\lib\\site-packages\\pandas\\core\\generic.py\u001b[0m in \u001b[0;36m_get_item_cache\u001b[1;34m(self, item)\u001b[0m\n\u001b[0;32m   2484\u001b[0m         \u001b[0mres\u001b[0m \u001b[1;33m=\u001b[0m \u001b[0mcache\u001b[0m\u001b[1;33m.\u001b[0m\u001b[0mget\u001b[0m\u001b[1;33m(\u001b[0m\u001b[0mitem\u001b[0m\u001b[1;33m)\u001b[0m\u001b[1;33m\u001b[0m\u001b[0m\n\u001b[0;32m   2485\u001b[0m         \u001b[1;32mif\u001b[0m \u001b[0mres\u001b[0m \u001b[1;32mis\u001b[0m \u001b[1;32mNone\u001b[0m\u001b[1;33m:\u001b[0m\u001b[1;33m\u001b[0m\u001b[0m\n\u001b[1;32m-> 2486\u001b[1;33m             \u001b[0mvalues\u001b[0m \u001b[1;33m=\u001b[0m \u001b[0mself\u001b[0m\u001b[1;33m.\u001b[0m\u001b[0m_data\u001b[0m\u001b[1;33m.\u001b[0m\u001b[0mget\u001b[0m\u001b[1;33m(\u001b[0m\u001b[0mitem\u001b[0m\u001b[1;33m)\u001b[0m\u001b[1;33m\u001b[0m\u001b[0m\n\u001b[0m\u001b[0;32m   2487\u001b[0m             \u001b[0mres\u001b[0m \u001b[1;33m=\u001b[0m \u001b[0mself\u001b[0m\u001b[1;33m.\u001b[0m\u001b[0m_box_item_values\u001b[0m\u001b[1;33m(\u001b[0m\u001b[0mitem\u001b[0m\u001b[1;33m,\u001b[0m \u001b[0mvalues\u001b[0m\u001b[1;33m)\u001b[0m\u001b[1;33m\u001b[0m\u001b[0m\n\u001b[0;32m   2488\u001b[0m             \u001b[0mcache\u001b[0m\u001b[1;33m[\u001b[0m\u001b[0mitem\u001b[0m\u001b[1;33m]\u001b[0m \u001b[1;33m=\u001b[0m \u001b[0mres\u001b[0m\u001b[1;33m\u001b[0m\u001b[0m\n",
      "\u001b[1;32m~\\Anaconda3\\lib\\site-packages\\pandas\\core\\internals.py\u001b[0m in \u001b[0;36mget\u001b[1;34m(self, item, fastpath)\u001b[0m\n\u001b[0;32m   4113\u001b[0m \u001b[1;33m\u001b[0m\u001b[0m\n\u001b[0;32m   4114\u001b[0m             \u001b[1;32mif\u001b[0m \u001b[1;32mnot\u001b[0m \u001b[0misna\u001b[0m\u001b[1;33m(\u001b[0m\u001b[0mitem\u001b[0m\u001b[1;33m)\u001b[0m\u001b[1;33m:\u001b[0m\u001b[1;33m\u001b[0m\u001b[0m\n\u001b[1;32m-> 4115\u001b[1;33m                 \u001b[0mloc\u001b[0m \u001b[1;33m=\u001b[0m \u001b[0mself\u001b[0m\u001b[1;33m.\u001b[0m\u001b[0mitems\u001b[0m\u001b[1;33m.\u001b[0m\u001b[0mget_loc\u001b[0m\u001b[1;33m(\u001b[0m\u001b[0mitem\u001b[0m\u001b[1;33m)\u001b[0m\u001b[1;33m\u001b[0m\u001b[0m\n\u001b[0m\u001b[0;32m   4116\u001b[0m             \u001b[1;32melse\u001b[0m\u001b[1;33m:\u001b[0m\u001b[1;33m\u001b[0m\u001b[0m\n\u001b[0;32m   4117\u001b[0m                 \u001b[0mindexer\u001b[0m \u001b[1;33m=\u001b[0m \u001b[0mnp\u001b[0m\u001b[1;33m.\u001b[0m\u001b[0marange\u001b[0m\u001b[1;33m(\u001b[0m\u001b[0mlen\u001b[0m\u001b[1;33m(\u001b[0m\u001b[0mself\u001b[0m\u001b[1;33m.\u001b[0m\u001b[0mitems\u001b[0m\u001b[1;33m)\u001b[0m\u001b[1;33m)\u001b[0m\u001b[1;33m[\u001b[0m\u001b[0misna\u001b[0m\u001b[1;33m(\u001b[0m\u001b[0mself\u001b[0m\u001b[1;33m.\u001b[0m\u001b[0mitems\u001b[0m\u001b[1;33m)\u001b[0m\u001b[1;33m]\u001b[0m\u001b[1;33m\u001b[0m\u001b[0m\n",
      "\u001b[1;32m~\\Anaconda3\\lib\\site-packages\\pandas\\core\\indexes\\base.py\u001b[0m in \u001b[0;36mget_loc\u001b[1;34m(self, key, method, tolerance)\u001b[0m\n\u001b[0;32m   3063\u001b[0m                 \u001b[1;32mreturn\u001b[0m \u001b[0mself\u001b[0m\u001b[1;33m.\u001b[0m\u001b[0m_engine\u001b[0m\u001b[1;33m.\u001b[0m\u001b[0mget_loc\u001b[0m\u001b[1;33m(\u001b[0m\u001b[0mkey\u001b[0m\u001b[1;33m)\u001b[0m\u001b[1;33m\u001b[0m\u001b[0m\n\u001b[0;32m   3064\u001b[0m             \u001b[1;32mexcept\u001b[0m \u001b[0mKeyError\u001b[0m\u001b[1;33m:\u001b[0m\u001b[1;33m\u001b[0m\u001b[0m\n\u001b[1;32m-> 3065\u001b[1;33m                 \u001b[1;32mreturn\u001b[0m \u001b[0mself\u001b[0m\u001b[1;33m.\u001b[0m\u001b[0m_engine\u001b[0m\u001b[1;33m.\u001b[0m\u001b[0mget_loc\u001b[0m\u001b[1;33m(\u001b[0m\u001b[0mself\u001b[0m\u001b[1;33m.\u001b[0m\u001b[0m_maybe_cast_indexer\u001b[0m\u001b[1;33m(\u001b[0m\u001b[0mkey\u001b[0m\u001b[1;33m)\u001b[0m\u001b[1;33m)\u001b[0m\u001b[1;33m\u001b[0m\u001b[0m\n\u001b[0m\u001b[0;32m   3066\u001b[0m \u001b[1;33m\u001b[0m\u001b[0m\n\u001b[0;32m   3067\u001b[0m         \u001b[0mindexer\u001b[0m \u001b[1;33m=\u001b[0m \u001b[0mself\u001b[0m\u001b[1;33m.\u001b[0m\u001b[0mget_indexer\u001b[0m\u001b[1;33m(\u001b[0m\u001b[1;33m[\u001b[0m\u001b[0mkey\u001b[0m\u001b[1;33m]\u001b[0m\u001b[1;33m,\u001b[0m \u001b[0mmethod\u001b[0m\u001b[1;33m=\u001b[0m\u001b[0mmethod\u001b[0m\u001b[1;33m,\u001b[0m \u001b[0mtolerance\u001b[0m\u001b[1;33m=\u001b[0m\u001b[0mtolerance\u001b[0m\u001b[1;33m)\u001b[0m\u001b[1;33m\u001b[0m\u001b[0m\n",
      "\u001b[1;32mpandas\\_libs\\index.pyx\u001b[0m in \u001b[0;36mpandas._libs.index.IndexEngine.get_loc\u001b[1;34m()\u001b[0m\n",
      "\u001b[1;32mpandas\\_libs\\index.pyx\u001b[0m in \u001b[0;36mpandas._libs.index.IndexEngine.get_loc\u001b[1;34m()\u001b[0m\n",
      "\u001b[1;32mpandas\\_libs\\hashtable_class_helper.pxi\u001b[0m in \u001b[0;36mpandas._libs.hashtable.PyObjectHashTable.get_item\u001b[1;34m()\u001b[0m\n",
      "\u001b[1;32mpandas\\_libs\\hashtable_class_helper.pxi\u001b[0m in \u001b[0;36mpandas._libs.hashtable.PyObjectHashTable.get_item\u001b[1;34m()\u001b[0m\n",
      "\u001b[1;31mKeyError\u001b[0m: 3.087069808086626"
     ]
    }
   ],
   "source": [
    "\n",
    "#Distance=['Distance']\n",
    "x=myDataFrame.nsmallest(1,Distance) # using n smallest to find the closest neighbour\n",
    "print(x)\n",
    "print(\"The 1 closest nieghbour have color as \",obs['Y'].values[3] ) # printing the colors for the closest neighbours\n",
    "# Therefore the prediction for K=1 is Red as the closest nighbours is red"
   ]
  },
  {
   "cell_type": "markdown",
   "metadata": {},
   "source": [
    "========================================================================================================================="
   ]
  },
  {
   "cell_type": "markdown",
   "metadata": {},
   "source": [
    "<b>Problem #1-3.</b> What is our prediction with K = 3? K = 5? and explain why."
   ]
  },
  {
   "cell_type": "code",
   "execution_count": 47,
   "metadata": {},
   "outputs": [
    {
     "ename": "ValueError",
     "evalue": "Shape of passed values is (1, 9), indices imply (9, 9)",
     "output_type": "error",
     "traceback": [
      "\u001b[1;31m---------------------------------------------------------------------------\u001b[0m",
      "\u001b[1;31mValueError\u001b[0m                                Traceback (most recent call last)",
      "\u001b[1;32m~\\Anaconda3\\lib\\site-packages\\pandas\\core\\internals.py\u001b[0m in \u001b[0;36mcreate_block_manager_from_blocks\u001b[1;34m(blocks, axes)\u001b[0m\n\u001b[0;32m   4856\u001b[0m                 blocks = [make_block(values=blocks[0],\n\u001b[1;32m-> 4857\u001b[1;33m                                      placement=slice(0, len(axes[0])))]\n\u001b[0m\u001b[0;32m   4858\u001b[0m \u001b[1;33m\u001b[0m\u001b[0m\n",
      "\u001b[1;32m~\\Anaconda3\\lib\\site-packages\\pandas\\core\\internals.py\u001b[0m in \u001b[0;36mmake_block\u001b[1;34m(values, placement, klass, ndim, dtype, fastpath)\u001b[0m\n\u001b[0;32m   3204\u001b[0m \u001b[1;33m\u001b[0m\u001b[0m\n\u001b[1;32m-> 3205\u001b[1;33m     \u001b[1;32mreturn\u001b[0m \u001b[0mklass\u001b[0m\u001b[1;33m(\u001b[0m\u001b[0mvalues\u001b[0m\u001b[1;33m,\u001b[0m \u001b[0mndim\u001b[0m\u001b[1;33m=\u001b[0m\u001b[0mndim\u001b[0m\u001b[1;33m,\u001b[0m \u001b[0mplacement\u001b[0m\u001b[1;33m=\u001b[0m\u001b[0mplacement\u001b[0m\u001b[1;33m)\u001b[0m\u001b[1;33m\u001b[0m\u001b[0m\n\u001b[0m\u001b[0;32m   3206\u001b[0m \u001b[1;33m\u001b[0m\u001b[0m\n",
      "\u001b[1;32m~\\Anaconda3\\lib\\site-packages\\pandas\\core\\internals.py\u001b[0m in \u001b[0;36m__init__\u001b[1;34m(self, values, placement, ndim)\u001b[0m\n\u001b[0;32m    124\u001b[0m                 \u001b[1;34m'Wrong number of items passed {val}, placement implies '\u001b[0m\u001b[1;33m\u001b[0m\u001b[0m\n\u001b[1;32m--> 125\u001b[1;33m                 '{mgr}'.format(val=len(self.values), mgr=len(self.mgr_locs)))\n\u001b[0m\u001b[0;32m    126\u001b[0m \u001b[1;33m\u001b[0m\u001b[0m\n",
      "\u001b[1;31mValueError\u001b[0m: Wrong number of items passed 1, placement implies 9",
      "\nDuring handling of the above exception, another exception occurred:\n",
      "\u001b[1;31mValueError\u001b[0m                                Traceback (most recent call last)",
      "\u001b[1;32m<ipython-input-47-e73e65a47bbc>\u001b[0m in \u001b[0;36m<module>\u001b[1;34m()\u001b[0m\n\u001b[1;32m----> 1\u001b[1;33m \u001b[0mmyDataFrame\u001b[0m\u001b[1;33m=\u001b[0m\u001b[0mpd\u001b[0m\u001b[1;33m.\u001b[0m\u001b[0mDataFrame\u001b[0m\u001b[1;33m(\u001b[0m\u001b[0mEuclidean\u001b[0m\u001b[1;33m,\u001b[0m \u001b[0mcolumns\u001b[0m\u001b[1;33m=\u001b[0m \u001b[0mDistance\u001b[0m\u001b[1;33m)\u001b[0m\u001b[1;33m\u001b[0m\u001b[0m\n\u001b[0m\u001b[0;32m      2\u001b[0m \u001b[0mx\u001b[0m\u001b[1;33m=\u001b[0m\u001b[0mmyDataFrame\u001b[0m\u001b[1;33m.\u001b[0m\u001b[0mnsmallest\u001b[0m\u001b[1;33m(\u001b[0m\u001b[1;36m3\u001b[0m\u001b[1;33m,\u001b[0m\u001b[0mDistance\u001b[0m\u001b[1;33m)\u001b[0m \u001b[1;31m# using n smallest to find the closest neighbour\u001b[0m\u001b[1;33m\u001b[0m\u001b[0m\n\u001b[0;32m      3\u001b[0m \u001b[0mprint\u001b[0m\u001b[1;33m(\u001b[0m\u001b[0mx\u001b[0m\u001b[1;33m)\u001b[0m\u001b[1;33m\u001b[0m\u001b[0m\n\u001b[0;32m      4\u001b[0m \u001b[1;33m\u001b[0m\u001b[0m\n\u001b[0;32m      5\u001b[0m \u001b[0mprint\u001b[0m\u001b[1;33m(\u001b[0m\u001b[1;34m\"The 3 closest nieghbours have colors as \"\u001b[0m\u001b[1;33m,\u001b[0m\u001b[0mobs\u001b[0m\u001b[1;33m[\u001b[0m\u001b[1;34m'Y'\u001b[0m\u001b[1;33m]\u001b[0m\u001b[1;33m.\u001b[0m\u001b[0mvalues\u001b[0m\u001b[1;33m[\u001b[0m\u001b[1;36m3\u001b[0m\u001b[1;33m]\u001b[0m \u001b[1;33m,\u001b[0m\u001b[0mobs\u001b[0m\u001b[1;33m[\u001b[0m\u001b[1;34m'Y'\u001b[0m\u001b[1;33m]\u001b[0m\u001b[1;33m.\u001b[0m\u001b[0mvalues\u001b[0m\u001b[1;33m[\u001b[0m\u001b[1;36m7\u001b[0m\u001b[1;33m]\u001b[0m\u001b[1;33m,\u001b[0m\u001b[0mobs\u001b[0m\u001b[1;33m[\u001b[0m\u001b[1;34m'Y'\u001b[0m\u001b[1;33m]\u001b[0m\u001b[1;33m.\u001b[0m\u001b[0mvalues\u001b[0m\u001b[1;33m[\u001b[0m\u001b[1;36m5\u001b[0m\u001b[1;33m]\u001b[0m \u001b[1;33m)\u001b[0m \u001b[1;31m# printing the colors for the closest neighbours\u001b[0m\u001b[1;33m\u001b[0m\u001b[0m\n",
      "\u001b[1;32m~\\Anaconda3\\lib\\site-packages\\pandas\\core\\frame.py\u001b[0m in \u001b[0;36m__init__\u001b[1;34m(self, data, index, columns, dtype, copy)\u001b[0m\n\u001b[0;32m    377\u001b[0m             \u001b[1;32melse\u001b[0m\u001b[1;33m:\u001b[0m\u001b[1;33m\u001b[0m\u001b[0m\n\u001b[0;32m    378\u001b[0m                 mgr = self._init_ndarray(data, index, columns, dtype=dtype,\n\u001b[1;32m--> 379\u001b[1;33m                                          copy=copy)\n\u001b[0m\u001b[0;32m    380\u001b[0m         \u001b[1;32melif\u001b[0m \u001b[0misinstance\u001b[0m\u001b[1;33m(\u001b[0m\u001b[0mdata\u001b[0m\u001b[1;33m,\u001b[0m \u001b[1;33m(\u001b[0m\u001b[0mlist\u001b[0m\u001b[1;33m,\u001b[0m \u001b[0mtypes\u001b[0m\u001b[1;33m.\u001b[0m\u001b[0mGeneratorType\u001b[0m\u001b[1;33m)\u001b[0m\u001b[1;33m)\u001b[0m\u001b[1;33m:\u001b[0m\u001b[1;33m\u001b[0m\u001b[0m\n\u001b[0;32m    381\u001b[0m             \u001b[1;32mif\u001b[0m \u001b[0misinstance\u001b[0m\u001b[1;33m(\u001b[0m\u001b[0mdata\u001b[0m\u001b[1;33m,\u001b[0m \u001b[0mtypes\u001b[0m\u001b[1;33m.\u001b[0m\u001b[0mGeneratorType\u001b[0m\u001b[1;33m)\u001b[0m\u001b[1;33m:\u001b[0m\u001b[1;33m\u001b[0m\u001b[0m\n",
      "\u001b[1;32m~\\Anaconda3\\lib\\site-packages\\pandas\\core\\frame.py\u001b[0m in \u001b[0;36m_init_ndarray\u001b[1;34m(self, values, index, columns, dtype, copy)\u001b[0m\n\u001b[0;32m    534\u001b[0m             \u001b[0mvalues\u001b[0m \u001b[1;33m=\u001b[0m \u001b[0mmaybe_infer_to_datetimelike\u001b[0m\u001b[1;33m(\u001b[0m\u001b[0mvalues\u001b[0m\u001b[1;33m)\u001b[0m\u001b[1;33m\u001b[0m\u001b[0m\n\u001b[0;32m    535\u001b[0m \u001b[1;33m\u001b[0m\u001b[0m\n\u001b[1;32m--> 536\u001b[1;33m         \u001b[1;32mreturn\u001b[0m \u001b[0mcreate_block_manager_from_blocks\u001b[0m\u001b[1;33m(\u001b[0m\u001b[1;33m[\u001b[0m\u001b[0mvalues\u001b[0m\u001b[1;33m]\u001b[0m\u001b[1;33m,\u001b[0m \u001b[1;33m[\u001b[0m\u001b[0mcolumns\u001b[0m\u001b[1;33m,\u001b[0m \u001b[0mindex\u001b[0m\u001b[1;33m]\u001b[0m\u001b[1;33m)\u001b[0m\u001b[1;33m\u001b[0m\u001b[0m\n\u001b[0m\u001b[0;32m    537\u001b[0m \u001b[1;33m\u001b[0m\u001b[0m\n\u001b[0;32m    538\u001b[0m     \u001b[1;33m@\u001b[0m\u001b[0mproperty\u001b[0m\u001b[1;33m\u001b[0m\u001b[0m\n",
      "\u001b[1;32m~\\Anaconda3\\lib\\site-packages\\pandas\\core\\internals.py\u001b[0m in \u001b[0;36mcreate_block_manager_from_blocks\u001b[1;34m(blocks, axes)\u001b[0m\n\u001b[0;32m   4864\u001b[0m         \u001b[0mblocks\u001b[0m \u001b[1;33m=\u001b[0m \u001b[1;33m[\u001b[0m\u001b[0mgetattr\u001b[0m\u001b[1;33m(\u001b[0m\u001b[0mb\u001b[0m\u001b[1;33m,\u001b[0m \u001b[1;34m'values'\u001b[0m\u001b[1;33m,\u001b[0m \u001b[0mb\u001b[0m\u001b[1;33m)\u001b[0m \u001b[1;32mfor\u001b[0m \u001b[0mb\u001b[0m \u001b[1;32min\u001b[0m \u001b[0mblocks\u001b[0m\u001b[1;33m]\u001b[0m\u001b[1;33m\u001b[0m\u001b[0m\n\u001b[0;32m   4865\u001b[0m         \u001b[0mtot_items\u001b[0m \u001b[1;33m=\u001b[0m \u001b[0msum\u001b[0m\u001b[1;33m(\u001b[0m\u001b[0mb\u001b[0m\u001b[1;33m.\u001b[0m\u001b[0mshape\u001b[0m\u001b[1;33m[\u001b[0m\u001b[1;36m0\u001b[0m\u001b[1;33m]\u001b[0m \u001b[1;32mfor\u001b[0m \u001b[0mb\u001b[0m \u001b[1;32min\u001b[0m \u001b[0mblocks\u001b[0m\u001b[1;33m)\u001b[0m\u001b[1;33m\u001b[0m\u001b[0m\n\u001b[1;32m-> 4866\u001b[1;33m         \u001b[0mconstruction_error\u001b[0m\u001b[1;33m(\u001b[0m\u001b[0mtot_items\u001b[0m\u001b[1;33m,\u001b[0m \u001b[0mblocks\u001b[0m\u001b[1;33m[\u001b[0m\u001b[1;36m0\u001b[0m\u001b[1;33m]\u001b[0m\u001b[1;33m.\u001b[0m\u001b[0mshape\u001b[0m\u001b[1;33m[\u001b[0m\u001b[1;36m1\u001b[0m\u001b[1;33m:\u001b[0m\u001b[1;33m]\u001b[0m\u001b[1;33m,\u001b[0m \u001b[0maxes\u001b[0m\u001b[1;33m,\u001b[0m \u001b[0me\u001b[0m\u001b[1;33m)\u001b[0m\u001b[1;33m\u001b[0m\u001b[0m\n\u001b[0m\u001b[0;32m   4867\u001b[0m \u001b[1;33m\u001b[0m\u001b[0m\n\u001b[0;32m   4868\u001b[0m \u001b[1;33m\u001b[0m\u001b[0m\n",
      "\u001b[1;32m~\\Anaconda3\\lib\\site-packages\\pandas\\core\\internals.py\u001b[0m in \u001b[0;36mconstruction_error\u001b[1;34m(tot_items, block_shape, axes, e)\u001b[0m\n\u001b[0;32m   4841\u001b[0m         \u001b[1;32mraise\u001b[0m \u001b[0mValueError\u001b[0m\u001b[1;33m(\u001b[0m\u001b[1;34m\"Empty data passed with indices specified.\"\u001b[0m\u001b[1;33m)\u001b[0m\u001b[1;33m\u001b[0m\u001b[0m\n\u001b[0;32m   4842\u001b[0m     raise ValueError(\"Shape of passed values is {0}, indices imply {1}\".format(\n\u001b[1;32m-> 4843\u001b[1;33m         passed, implied))\n\u001b[0m\u001b[0;32m   4844\u001b[0m \u001b[1;33m\u001b[0m\u001b[0m\n\u001b[0;32m   4845\u001b[0m \u001b[1;33m\u001b[0m\u001b[0m\n",
      "\u001b[1;31mValueError\u001b[0m: Shape of passed values is (1, 9), indices imply (9, 9)"
     ]
    }
   ],
   "source": [
    "myDataFrame=pd.DataFrame(Euclidean, columns= Distance)\n",
    "x=myDataFrame.nsmallest(3,Distance) # using n smallest to find the closest neighbour\n",
    "print(x)\n",
    "\n",
    "print(\"The 3 closest nieghbours have colors as \",obs['Y'].values[3] ,obs['Y'].values[7],obs['Y'].values[5] ) # printing the colors for the closest neighbours\n",
    "   \n",
    "# Therefore the prediction for K=3 is Red as out of 3 closest nighbours 2 are red\n"
   ]
  },
  {
   "cell_type": "code",
   "execution_count": 36,
   "metadata": {},
   "outputs": [],
   "source": [
    "y=myDataFrame.nsmallest(5,Distance)\n",
    "print(y)\n",
    "print(\"The 5 closest nieghbours have colors as \",obs['Y'].values[3] ,obs['Y'].values[7],obs['Y'].values[5],obs['Y'].values[2],obs['Y'].values[6])\n",
    "\n",
    "# Therefore the prediction for K=5 is Green as out of 5 closest nighbours 3 are Green\n"
   ]
  },
  {
   "cell_type": "markdown",
   "metadata": {},
   "source": [
    "========================================================================================================================="
   ]
  },
  {
   "cell_type": "markdown",
   "metadata": {},
   "source": [
    "<b>Problem #1-4.</b>  How using a different number of K has an impact on the performance? explain."
   ]
  },
  {
   "cell_type": "markdown",
   "metadata": {},
   "source": [
    "Out of the total 9 observation ,3 data points are red while the rest are green. As we start increasing from low values of K=1(overfitting) to high values of k greater than 4 (underfitting), there will be a tendency to move from  "
   ]
  },
  {
   "cell_type": "markdown",
   "metadata": {},
   "source": [
    "<h3>  Problem #2. Answer those questions about linear regression [30 points] </h3>  \n",
    "- Writing a code is not required for this question<br>\n",
    "- Feel free to select any type of submission you are comfortable with (Since it may require some mathematical formula and symbols; MS Word, or scanned version of your writing will be fine) "
   ]
  },
  {
   "cell_type": "markdown",
   "metadata": {},
   "source": [
    "<b>Problem #2-1.</b> Find the least squared fit of a linear regression model using the following traning data."
   ]
  },
  {
   "cell_type": "markdown",
   "metadata": {},
   "source": [
    "|Height(x)|Weight(y)|\n",
    "|:--:|:-------------------------------:|\n",
    "|63|127|\n",
    "|64|121|\n",
    "|66|142|\n",
    "|69|157|\n",
    "|69|162|\n",
    "|71|156|\n",
    "|71|169|\n",
    "|72|165|\n",
    "|73|181|"
   ]
  },
  {
   "cell_type": "code",
   "execution_count": 5,
   "metadata": {
    "collapsed": true,
    "scrolled": false
   },
   "outputs": [],
   "source": [
    "#Write your answer # Coding is not required\n",
    "\n"
   ]
  },
  {
   "cell_type": "markdown",
   "metadata": {
    "collapsed": true
   },
   "source": [
    "========================================================================================================================"
   ]
  },
  {
   "cell_type": "markdown",
   "metadata": {},
   "source": [
    "<b>Problem #2-2.</b> Given the test data below, compute the R-squared metric of the fitted model."
   ]
  },
  {
   "cell_type": "markdown",
   "metadata": {},
   "source": [
    "|X(feeding)|Y(death)|\n",
    "|:--:|:-------------------------------:|\n",
    "|27|10|\n",
    "|41|9|\n",
    "|56|28|\n",
    "|50|40|\n",
    "|73|39|\n",
    "|38|59|\n",
    "|72|60|\n",
    "|87|62|\n",
    "|51|64|"
   ]
  },
  {
   "cell_type": "code",
   "execution_count": 1,
   "metadata": {
    "collapsed": true,
    "scrolled": true
   },
   "outputs": [],
   "source": [
    "#Write your answer # Coding is not required"
   ]
  },
  {
   "cell_type": "markdown",
   "metadata": {
    "collapsed": true
   },
   "source": [
    "======================================================================================================================= <br>======================================================================================================================="
   ]
  },
  {
   "cell_type": "markdown",
   "metadata": {},
   "source": [
    "<h3>  Problem #3. This question involves the use of multiple linear regression on the Boston dataset [30 points]</h3> <br>\n",
    "In this part, you should download and analyze **\"Boston House Prices\"** dataset. <br>\n",
    "\n",
    "Here use a code below to download the  dataset: "
   ]
  },
  {
   "cell_type": "code",
   "execution_count": 10,
   "metadata": {},
   "outputs": [
    {
     "name": "stdout",
     "output_type": "stream",
     "text": [
      "dict_keys(['data', 'target', 'feature_names', 'DESCR'])\n"
     ]
    },
    {
     "data": {
      "text/plain": [
       "numpy.ndarray"
      ]
     },
     "execution_count": 10,
     "metadata": {},
     "output_type": "execute_result"
    }
   ],
   "source": [
    "dataset = load_boston()\n",
    "print(dataset.keys())\n",
    "type (dataset)"
   ]
  },
  {
   "cell_type": "markdown",
   "metadata": {},
   "source": [
    "Hint: You may need to \"import statsmodels.formula.api as smf\" for some statistical analysis"
   ]
  },
  {
   "cell_type": "markdown",
   "metadata": {},
   "source": [
    "<b>Problem #3-1</b> Print the description of the dataset. \n",
    "\n",
    "<b> Answer the following question:</b> \n",
    "\n",
    "- Whole dataset contains 14 attributes, (13 numeric/categorical predictive and 1 target value)  what is a abbreviation of the target value? "
   ]
  },
  {
   "cell_type": "code",
   "execution_count": 3,
   "metadata": {
    "scrolled": true
   },
   "outputs": [
    {
     "name": "stdout",
     "output_type": "stream",
     "text": [
      "Boston House Prices dataset\n",
      "===========================\n",
      "\n",
      "Notes\n",
      "------\n",
      "Data Set Characteristics:  \n",
      "\n",
      "    :Number of Instances: 506 \n",
      "\n",
      "    :Number of Attributes: 13 numeric/categorical predictive\n",
      "    \n",
      "    :Median Value (attribute 14) is usually the target\n",
      "\n",
      "    :Attribute Information (in order):\n",
      "        - CRIM     per capita crime rate by town\n",
      "        - ZN       proportion of residential land zoned for lots over 25,000 sq.ft.\n",
      "        - INDUS    proportion of non-retail business acres per town\n",
      "        - CHAS     Charles River dummy variable (= 1 if tract bounds river; 0 otherwise)\n",
      "        - NOX      nitric oxides concentration (parts per 10 million)\n",
      "        - RM       average number of rooms per dwelling\n",
      "        - AGE      proportion of owner-occupied units built prior to 1940\n",
      "        - DIS      weighted distances to five Boston employment centres\n",
      "        - RAD      index of accessibility to radial highways\n",
      "        - TAX      full-value property-tax rate per $10,000\n",
      "        - PTRATIO  pupil-teacher ratio by town\n",
      "        - B        1000(Bk - 0.63)^2 where Bk is the proportion of blacks by town\n",
      "        - LSTAT    % lower status of the population\n",
      "        - MEDV     Median value of owner-occupied homes in $1000's\n",
      "\n",
      "    :Missing Attribute Values: None\n",
      "\n",
      "    :Creator: Harrison, D. and Rubinfeld, D.L.\n",
      "\n",
      "This is a copy of UCI ML housing dataset.\n",
      "http://archive.ics.uci.edu/ml/datasets/Housing\n",
      "\n",
      "\n",
      "This dataset was taken from the StatLib library which is maintained at Carnegie Mellon University.\n",
      "\n",
      "The Boston house-price data of Harrison, D. and Rubinfeld, D.L. 'Hedonic\n",
      "prices and the demand for clean air', J. Environ. Economics & Management,\n",
      "vol.5, 81-102, 1978.   Used in Belsley, Kuh & Welsch, 'Regression diagnostics\n",
      "...', Wiley, 1980.   N.B. Various transformations are used in the table on\n",
      "pages 244-261 of the latter.\n",
      "\n",
      "The Boston house-price data has been used in many machine learning papers that address regression\n",
      "problems.   \n",
      "     \n",
      "**References**\n",
      "\n",
      "   - Belsley, Kuh & Welsch, 'Regression diagnostics: Identifying Influential Data and Sources of Collinearity', Wiley, 1980. 244-261.\n",
      "   - Quinlan,R. (1993). Combining Instance-Based and Model-Based Learning. In Proceedings on the Tenth International Conference of Machine Learning, 236-243, University of Massachusetts, Amherst. Morgan Kaufmann.\n",
      "   - many more! (see http://archive.ics.uci.edu/ml/datasets/Housing)\n",
      "\n"
     ]
    }
   ],
   "source": [
    "#Code\n",
    "print(dataset.DESCR)"
   ]
  },
  {
   "cell_type": "markdown",
   "metadata": {},
   "source": [
    "======================================================================================================================="
   ]
  },
  {
   "cell_type": "markdown",
   "metadata": {},
   "source": [
    "<b>Problem #3-2 </b> Generate descriptive statistics using DataFrame. (hint: use \"DataFrame . describe\" function)<br>\n",
    "\n",
    "Follow two steps to answer questions.\n",
    "- Create a DataFrame usnig \"data\" from the dataset with columns using \"feature_names\".\n",
    "- Generate descriptive statistics \n",
    "\n",
    "<b> Answer the following questions:</b> \n",
    "\n",
    "-  Which feature has the lowest range (minimum and maximum value)?\n",
    "\n",
    "-  Which feature has the higest mean?  \n",
    "\n",
    "-  Which feature has a highest variance? "
   ]
  },
  {
   "cell_type": "code",
   "execution_count": 26,
   "metadata": {
    "scrolled": true
   },
   "outputs": [
    {
     "name": "stdout",
     "output_type": "stream",
     "text": [
      "Minimum values in each coloumn are CRIM         0.00632\n",
      "ZN           0.00000\n",
      "INDUS        0.46000\n",
      "CHAS         0.00000\n",
      "NOX          0.38500\n",
      "RM           3.56100\n",
      "AGE          2.90000\n",
      "DIS          1.12960\n",
      "RAD          1.00000\n",
      "TAX        187.00000\n",
      "PTRATIO     12.60000\n",
      "B            0.32000\n",
      "LSTAT        1.73000\n",
      "dtype: float64\n",
      "Maximum values in each coloumn are CRIM        88.9762\n",
      "ZN         100.0000\n",
      "INDUS       27.7400\n",
      "CHAS         1.0000\n",
      "NOX          0.8710\n",
      "RM           8.7800\n",
      "AGE        100.0000\n",
      "DIS         12.1265\n",
      "RAD         24.0000\n",
      "TAX        711.0000\n",
      "PTRATIO     22.0000\n",
      "B          396.9000\n",
      "LSTAT       37.9700\n",
      "dtype: float64\n",
      "Mean of each coloumn is CRIM         3.593761\n",
      "ZN          11.363636\n",
      "INDUS       11.136779\n",
      "CHAS         0.069170\n",
      "NOX          0.554695\n",
      "RM           6.284634\n",
      "AGE         68.574901\n",
      "DIS          3.795043\n",
      "RAD          9.549407\n",
      "TAX        408.237154\n",
      "PTRATIO     18.455534\n",
      "B          356.674032\n",
      "LSTAT       12.653063\n",
      "dtype: float64\n",
      "variance of each coloumn is CRIM          73.904671\n",
      "ZN           543.936814\n",
      "INDUS         47.064442\n",
      "CHAS           0.064513\n",
      "NOX            0.013428\n",
      "RM             0.493671\n",
      "AGE          792.358399\n",
      "DIS            4.434015\n",
      "RAD           75.816366\n",
      "TAX        28404.759488\n",
      "PTRATIO        4.686989\n",
      "B           8334.752263\n",
      "LSTAT         50.994760\n",
      "dtype: float64\n"
     ]
    }
   ],
   "source": [
    "#Code\n",
    "myDataFrame=pd.DataFrame(dataset.data,columns=dataset.feature_names)\n",
    "myDataFrame.describe\n",
    "\n",
    "print(\"Minimum values in each coloumn are\",myDataFrame.min())\n",
    "print(\"Maximum values in each coloumn are\",myDataFrame.max())\n",
    "#Therfore the coloumn with lowest range is NOX\n",
    "print(\"Mean of each coloumn is\",myDataFrame.mean())\n",
    "print(\"variance of each coloumn is\",myDataFrame.var())\n",
    "\n",
    "# Therefore the feature with highest mean and variance is \"TAX\""
   ]
  },
  {
   "cell_type": "markdown",
   "metadata": {},
   "source": [
    "======================================================================================================================="
   ]
  },
  {
   "cell_type": "markdown",
   "metadata": {},
   "source": [
    "<b>Problem #3-3 </b> Feature Scaling\n",
    "\n",
    "<b> Answer the following questions:</b> \n",
    "\n",
    "- From the information above, Do you recommend **feature scaling** to improve performance? Explain.  \n",
    "\n",
    "- What is a difference between MinMaxScaler and StandardScaler? "
   ]
  },
  {
   "cell_type": "code",
   "execution_count": 45,
   "metadata": {},
   "outputs": [],
   "source": [
    "# I would recommend feature scaling for performance improvement as the features have varying scales when \n",
    "# compared to each other, so the resultant model will be affected most by the features with large scales which might not\n",
    "# necessarily be the case.\n",
    "\n",
    "# Min Max Scaler scales features to be in range 0-1 whereas StandardScaler scales features so that the resultant \n",
    "# features all have zero mean and unit variance."
   ]
  },
  {
   "cell_type": "markdown",
   "metadata": {},
   "source": [
    "======================================================================================================================="
   ]
  },
  {
   "cell_type": "markdown",
   "metadata": {},
   "source": [
    "<b>Problem #3-4 </b> Calculate and report **correlations** between features and the target \n",
    "\n",
    "<b> Answer the following questions:</b> \n",
    "\n",
    "- What is a difference between positive and negative numbers on the correlation table? Explain.\n",
    "- What is the feature that is most correlated with the target? Do you think it is the most or the least helpful features in predicting the\n",
    "target class? Explain."
   ]
  },
  {
   "cell_type": "code",
   "execution_count": 30,
   "metadata": {},
   "outputs": [],
   "source": [
    "# Postive Corelation between X & Y - as value of either X increases, it also results in a increase in value of Y\n",
    "# Negative Corealtion between X & Y - as value of either X decreases,it also results in a increase in value of Y\n",
    "\n",
    "# We can say which features are most correalted with the response or with each other , but we cannot say which features are most useful for that we will have to use the p statistics \n",
    "\n",
    "\n"
   ]
  },
  {
   "cell_type": "markdown",
   "metadata": {},
   "source": [
    "======================================================================================================================="
   ]
  },
  {
   "cell_type": "markdown",
   "metadata": {},
   "source": [
    "<b>Problem #3-5 </b> \n",
    "Follow two steps to answer questions.\n",
    "\n",
    "- Add 1 more column (dataset.target) to your DataFrame (give a name).\n",
    "\n",
    "- Find the correlation matrix that shows the correlation between each pair of features. <br>\n",
    "\n",
    "- Plot a correlation matrix<br> You can use the code below or write your own code to plot a correlation matrix *(extra point for writing your own code)* \n",
    "\n",
    " <b>Answer the following questions:</b> \n",
    "\n",
    "- What is the correlation between the feature RM and the LSTAT?\n",
    "- What does this value of correlation indicate?"
   ]
  },
  {
   "cell_type": "code",
   "execution_count": 31,
   "metadata": {},
   "outputs": [
    {
     "name": "stdout",
     "output_type": "stream",
     "text": [
      "         CRIM    ZN  INDUS  CHAS    NOX     RM    AGE     DIS   RAD    TAX  \\\n",
      "0     0.00632  18.0   2.31   0.0  0.538  6.575   65.2  4.0900   1.0  296.0   \n",
      "1     0.02731   0.0   7.07   0.0  0.469  6.421   78.9  4.9671   2.0  242.0   \n",
      "2     0.02729   0.0   7.07   0.0  0.469  7.185   61.1  4.9671   2.0  242.0   \n",
      "3     0.03237   0.0   2.18   0.0  0.458  6.998   45.8  6.0622   3.0  222.0   \n",
      "4     0.06905   0.0   2.18   0.0  0.458  7.147   54.2  6.0622   3.0  222.0   \n",
      "5     0.02985   0.0   2.18   0.0  0.458  6.430   58.7  6.0622   3.0  222.0   \n",
      "6     0.08829  12.5   7.87   0.0  0.524  6.012   66.6  5.5605   5.0  311.0   \n",
      "7     0.14455  12.5   7.87   0.0  0.524  6.172   96.1  5.9505   5.0  311.0   \n",
      "8     0.21124  12.5   7.87   0.0  0.524  5.631  100.0  6.0821   5.0  311.0   \n",
      "9     0.17004  12.5   7.87   0.0  0.524  6.004   85.9  6.5921   5.0  311.0   \n",
      "10    0.22489  12.5   7.87   0.0  0.524  6.377   94.3  6.3467   5.0  311.0   \n",
      "11    0.11747  12.5   7.87   0.0  0.524  6.009   82.9  6.2267   5.0  311.0   \n",
      "12    0.09378  12.5   7.87   0.0  0.524  5.889   39.0  5.4509   5.0  311.0   \n",
      "13    0.62976   0.0   8.14   0.0  0.538  5.949   61.8  4.7075   4.0  307.0   \n",
      "14    0.63796   0.0   8.14   0.0  0.538  6.096   84.5  4.4619   4.0  307.0   \n",
      "15    0.62739   0.0   8.14   0.0  0.538  5.834   56.5  4.4986   4.0  307.0   \n",
      "16    1.05393   0.0   8.14   0.0  0.538  5.935   29.3  4.4986   4.0  307.0   \n",
      "17    0.78420   0.0   8.14   0.0  0.538  5.990   81.7  4.2579   4.0  307.0   \n",
      "18    0.80271   0.0   8.14   0.0  0.538  5.456   36.6  3.7965   4.0  307.0   \n",
      "19    0.72580   0.0   8.14   0.0  0.538  5.727   69.5  3.7965   4.0  307.0   \n",
      "20    1.25179   0.0   8.14   0.0  0.538  5.570   98.1  3.7979   4.0  307.0   \n",
      "21    0.85204   0.0   8.14   0.0  0.538  5.965   89.2  4.0123   4.0  307.0   \n",
      "22    1.23247   0.0   8.14   0.0  0.538  6.142   91.7  3.9769   4.0  307.0   \n",
      "23    0.98843   0.0   8.14   0.0  0.538  5.813  100.0  4.0952   4.0  307.0   \n",
      "24    0.75026   0.0   8.14   0.0  0.538  5.924   94.1  4.3996   4.0  307.0   \n",
      "25    0.84054   0.0   8.14   0.0  0.538  5.599   85.7  4.4546   4.0  307.0   \n",
      "26    0.67191   0.0   8.14   0.0  0.538  5.813   90.3  4.6820   4.0  307.0   \n",
      "27    0.95577   0.0   8.14   0.0  0.538  6.047   88.8  4.4534   4.0  307.0   \n",
      "28    0.77299   0.0   8.14   0.0  0.538  6.495   94.4  4.4547   4.0  307.0   \n",
      "29    1.00245   0.0   8.14   0.0  0.538  6.674   87.3  4.2390   4.0  307.0   \n",
      "..        ...   ...    ...   ...    ...    ...    ...     ...   ...    ...   \n",
      "476   4.87141   0.0  18.10   0.0  0.614  6.484   93.6  2.3053  24.0  666.0   \n",
      "477  15.02340   0.0  18.10   0.0  0.614  5.304   97.3  2.1007  24.0  666.0   \n",
      "478  10.23300   0.0  18.10   0.0  0.614  6.185   96.7  2.1705  24.0  666.0   \n",
      "479  14.33370   0.0  18.10   0.0  0.614  6.229   88.0  1.9512  24.0  666.0   \n",
      "480   5.82401   0.0  18.10   0.0  0.532  6.242   64.7  3.4242  24.0  666.0   \n",
      "481   5.70818   0.0  18.10   0.0  0.532  6.750   74.9  3.3317  24.0  666.0   \n",
      "482   5.73116   0.0  18.10   0.0  0.532  7.061   77.0  3.4106  24.0  666.0   \n",
      "483   2.81838   0.0  18.10   0.0  0.532  5.762   40.3  4.0983  24.0  666.0   \n",
      "484   2.37857   0.0  18.10   0.0  0.583  5.871   41.9  3.7240  24.0  666.0   \n",
      "485   3.67367   0.0  18.10   0.0  0.583  6.312   51.9  3.9917  24.0  666.0   \n",
      "486   5.69175   0.0  18.10   0.0  0.583  6.114   79.8  3.5459  24.0  666.0   \n",
      "487   4.83567   0.0  18.10   0.0  0.583  5.905   53.2  3.1523  24.0  666.0   \n",
      "488   0.15086   0.0  27.74   0.0  0.609  5.454   92.7  1.8209   4.0  711.0   \n",
      "489   0.18337   0.0  27.74   0.0  0.609  5.414   98.3  1.7554   4.0  711.0   \n",
      "490   0.20746   0.0  27.74   0.0  0.609  5.093   98.0  1.8226   4.0  711.0   \n",
      "491   0.10574   0.0  27.74   0.0  0.609  5.983   98.8  1.8681   4.0  711.0   \n",
      "492   0.11132   0.0  27.74   0.0  0.609  5.983   83.5  2.1099   4.0  711.0   \n",
      "493   0.17331   0.0   9.69   0.0  0.585  5.707   54.0  2.3817   6.0  391.0   \n",
      "494   0.27957   0.0   9.69   0.0  0.585  5.926   42.6  2.3817   6.0  391.0   \n",
      "495   0.17899   0.0   9.69   0.0  0.585  5.670   28.8  2.7986   6.0  391.0   \n",
      "496   0.28960   0.0   9.69   0.0  0.585  5.390   72.9  2.7986   6.0  391.0   \n",
      "497   0.26838   0.0   9.69   0.0  0.585  5.794   70.6  2.8927   6.0  391.0   \n",
      "498   0.23912   0.0   9.69   0.0  0.585  6.019   65.3  2.4091   6.0  391.0   \n",
      "499   0.17783   0.0   9.69   0.0  0.585  5.569   73.5  2.3999   6.0  391.0   \n",
      "500   0.22438   0.0   9.69   0.0  0.585  6.027   79.7  2.4982   6.0  391.0   \n",
      "501   0.06263   0.0  11.93   0.0  0.573  6.593   69.1  2.4786   1.0  273.0   \n",
      "502   0.04527   0.0  11.93   0.0  0.573  6.120   76.7  2.2875   1.0  273.0   \n",
      "503   0.06076   0.0  11.93   0.0  0.573  6.976   91.0  2.1675   1.0  273.0   \n",
      "504   0.10959   0.0  11.93   0.0  0.573  6.794   89.3  2.3889   1.0  273.0   \n",
      "505   0.04741   0.0  11.93   0.0  0.573  6.030   80.8  2.5050   1.0  273.0   \n",
      "\n",
      "     PTRATIO       B  LSTAT  TargetValues  \n",
      "0       15.3  396.90   4.98          24.0  \n",
      "1       17.8  396.90   9.14          21.6  \n",
      "2       17.8  392.83   4.03          34.7  \n",
      "3       18.7  394.63   2.94          33.4  \n",
      "4       18.7  396.90   5.33          36.2  \n",
      "5       18.7  394.12   5.21          28.7  \n",
      "6       15.2  395.60  12.43          22.9  \n",
      "7       15.2  396.90  19.15          27.1  \n",
      "8       15.2  386.63  29.93          16.5  \n",
      "9       15.2  386.71  17.10          18.9  \n",
      "10      15.2  392.52  20.45          15.0  \n",
      "11      15.2  396.90  13.27          18.9  \n",
      "12      15.2  390.50  15.71          21.7  \n",
      "13      21.0  396.90   8.26          20.4  \n",
      "14      21.0  380.02  10.26          18.2  \n",
      "15      21.0  395.62   8.47          19.9  \n",
      "16      21.0  386.85   6.58          23.1  \n",
      "17      21.0  386.75  14.67          17.5  \n",
      "18      21.0  288.99  11.69          20.2  \n",
      "19      21.0  390.95  11.28          18.2  \n",
      "20      21.0  376.57  21.02          13.6  \n",
      "21      21.0  392.53  13.83          19.6  \n",
      "22      21.0  396.90  18.72          15.2  \n",
      "23      21.0  394.54  19.88          14.5  \n",
      "24      21.0  394.33  16.30          15.6  \n",
      "25      21.0  303.42  16.51          13.9  \n",
      "26      21.0  376.88  14.81          16.6  \n",
      "27      21.0  306.38  17.28          14.8  \n",
      "28      21.0  387.94  12.80          18.4  \n",
      "29      21.0  380.23  11.98          21.0  \n",
      "..       ...     ...    ...           ...  \n",
      "476     20.2  396.21  18.68          16.7  \n",
      "477     20.2  349.48  24.91          12.0  \n",
      "478     20.2  379.70  18.03          14.6  \n",
      "479     20.2  383.32  13.11          21.4  \n",
      "480     20.2  396.90  10.74          23.0  \n",
      "481     20.2  393.07   7.74          23.7  \n",
      "482     20.2  395.28   7.01          25.0  \n",
      "483     20.2  392.92  10.42          21.8  \n",
      "484     20.2  370.73  13.34          20.6  \n",
      "485     20.2  388.62  10.58          21.2  \n",
      "486     20.2  392.68  14.98          19.1  \n",
      "487     20.2  388.22  11.45          20.6  \n",
      "488     20.1  395.09  18.06          15.2  \n",
      "489     20.1  344.05  23.97           7.0  \n",
      "490     20.1  318.43  29.68           8.1  \n",
      "491     20.1  390.11  18.07          13.6  \n",
      "492     20.1  396.90  13.35          20.1  \n",
      "493     19.2  396.90  12.01          21.8  \n",
      "494     19.2  396.90  13.59          24.5  \n",
      "495     19.2  393.29  17.60          23.1  \n",
      "496     19.2  396.90  21.14          19.7  \n",
      "497     19.2  396.90  14.10          18.3  \n",
      "498     19.2  396.90  12.92          21.2  \n",
      "499     19.2  395.77  15.10          17.5  \n",
      "500     19.2  396.90  14.33          16.8  \n",
      "501     21.0  391.99   9.67          22.4  \n",
      "502     21.0  396.90   9.08          20.6  \n",
      "503     21.0  396.90   5.64          23.9  \n",
      "504     21.0  393.45   6.48          22.0  \n",
      "505     21.0  396.90   7.88          11.9  \n",
      "\n",
      "[506 rows x 14 columns]\n",
      "                  CRIM        ZN     INDUS      CHAS       NOX        RM  \\\n",
      "CRIM          1.000000 -0.199458  0.404471 -0.055295  0.417521 -0.219940   \n",
      "ZN           -0.199458  1.000000 -0.533828 -0.042697 -0.516604  0.311991   \n",
      "INDUS         0.404471 -0.533828  1.000000  0.062938  0.763651 -0.391676   \n",
      "CHAS         -0.055295 -0.042697  0.062938  1.000000  0.091203  0.091251   \n",
      "NOX           0.417521 -0.516604  0.763651  0.091203  1.000000 -0.302188   \n",
      "RM           -0.219940  0.311991 -0.391676  0.091251 -0.302188  1.000000   \n",
      "AGE           0.350784 -0.569537  0.644779  0.086518  0.731470 -0.240265   \n",
      "DIS          -0.377904  0.664408 -0.708027 -0.099176 -0.769230  0.205246   \n",
      "RAD           0.622029 -0.311948  0.595129 -0.007368  0.611441 -0.209847   \n",
      "TAX           0.579564 -0.314563  0.720760 -0.035587  0.668023 -0.292048   \n",
      "PTRATIO       0.288250 -0.391679  0.383248 -0.121515  0.188933 -0.355501   \n",
      "B            -0.377365  0.175520 -0.356977  0.048788 -0.380051  0.128069   \n",
      "LSTAT         0.452220 -0.412995  0.603800 -0.053929  0.590879 -0.613808   \n",
      "TargetValues -0.385832  0.360445 -0.483725  0.175260 -0.427321  0.695360   \n",
      "\n",
      "                   AGE       DIS       RAD       TAX   PTRATIO         B  \\\n",
      "CRIM          0.350784 -0.377904  0.622029  0.579564  0.288250 -0.377365   \n",
      "ZN           -0.569537  0.664408 -0.311948 -0.314563 -0.391679  0.175520   \n",
      "INDUS         0.644779 -0.708027  0.595129  0.720760  0.383248 -0.356977   \n",
      "CHAS          0.086518 -0.099176 -0.007368 -0.035587 -0.121515  0.048788   \n",
      "NOX           0.731470 -0.769230  0.611441  0.668023  0.188933 -0.380051   \n",
      "RM           -0.240265  0.205246 -0.209847 -0.292048 -0.355501  0.128069   \n",
      "AGE           1.000000 -0.747881  0.456022  0.506456  0.261515 -0.273534   \n",
      "DIS          -0.747881  1.000000 -0.494588 -0.534432 -0.232471  0.291512   \n",
      "RAD           0.456022 -0.494588  1.000000  0.910228  0.464741 -0.444413   \n",
      "TAX           0.506456 -0.534432  0.910228  1.000000  0.460853 -0.441808   \n",
      "PTRATIO       0.261515 -0.232471  0.464741  0.460853  1.000000 -0.177383   \n",
      "B            -0.273534  0.291512 -0.444413 -0.441808 -0.177383  1.000000   \n",
      "LSTAT         0.602339 -0.496996  0.488676  0.543993  0.374044 -0.366087   \n",
      "TargetValues -0.376955  0.249929 -0.381626 -0.468536 -0.507787  0.333461   \n",
      "\n",
      "                 LSTAT  TargetValues  \n",
      "CRIM          0.452220     -0.385832  \n",
      "ZN           -0.412995      0.360445  \n",
      "INDUS         0.603800     -0.483725  \n",
      "CHAS         -0.053929      0.175260  \n",
      "NOX           0.590879     -0.427321  \n",
      "RM           -0.613808      0.695360  \n",
      "AGE           0.602339     -0.376955  \n",
      "DIS          -0.496996      0.249929  \n",
      "RAD           0.488676     -0.381626  \n",
      "TAX           0.543993     -0.468536  \n",
      "PTRATIO       0.374044     -0.507787  \n",
      "B            -0.366087      0.333461  \n",
      "LSTAT         1.000000     -0.737663  \n",
      "TargetValues -0.737663      1.000000  \n"
     ]
    },
    {
     "data": {
      "text/html": [
       "<style  type=\"text/css\" >\n",
       "    #T_b2391fde_c529_11e8_bd57_88787351decerow0_col0 {\n",
       "            background-color:  #023858;\n",
       "        }    #T_b2391fde_c529_11e8_bd57_88787351decerow0_col1 {\n",
       "            background-color:  #d3d4e7;\n",
       "        }    #T_b2391fde_c529_11e8_bd57_88787351decerow0_col2 {\n",
       "            background-color:  #2c89bd;\n",
       "        }    #T_b2391fde_c529_11e8_bd57_88787351decerow0_col3 {\n",
       "            background-color:  #f6eff7;\n",
       "        }    #T_b2391fde_c529_11e8_bd57_88787351decerow0_col4 {\n",
       "            background-color:  #2484ba;\n",
       "        }    #T_b2391fde_c529_11e8_bd57_88787351decerow0_col5 {\n",
       "            background-color:  #d2d2e7;\n",
       "        }    #T_b2391fde_c529_11e8_bd57_88787351decerow0_col6 {\n",
       "            background-color:  #358fc0;\n",
       "        }    #T_b2391fde_c529_11e8_bd57_88787351decerow0_col7 {\n",
       "            background-color:  #d7d6e9;\n",
       "        }    #T_b2391fde_c529_11e8_bd57_88787351decerow0_col8 {\n",
       "            background-color:  #0570b0;\n",
       "        }    #T_b2391fde_c529_11e8_bd57_88787351decerow0_col9 {\n",
       "            background-color:  #0f76b3;\n",
       "        }    #T_b2391fde_c529_11e8_bd57_88787351decerow0_col10 {\n",
       "            background-color:  #65a3cb;\n",
       "        }    #T_b2391fde_c529_11e8_bd57_88787351decerow0_col11 {\n",
       "            background-color:  #f8f1f8;\n",
       "        }    #T_b2391fde_c529_11e8_bd57_88787351decerow0_col12 {\n",
       "            background-color:  #1e80b8;\n",
       "        }    #T_b2391fde_c529_11e8_bd57_88787351decerow0_col13 {\n",
       "            background-color:  #dbdaeb;\n",
       "        }    #T_b2391fde_c529_11e8_bd57_88787351decerow1_col0 {\n",
       "            background-color:  #eae6f1;\n",
       "        }    #T_b2391fde_c529_11e8_bd57_88787351decerow1_col1 {\n",
       "            background-color:  #023858;\n",
       "        }    #T_b2391fde_c529_11e8_bd57_88787351decerow1_col2 {\n",
       "            background-color:  #f0eaf4;\n",
       "        }    #T_b2391fde_c529_11e8_bd57_88787351decerow1_col3 {\n",
       "            background-color:  #f5eef6;\n",
       "        }    #T_b2391fde_c529_11e8_bd57_88787351decerow1_col4 {\n",
       "            background-color:  #e8e4f0;\n",
       "        }    #T_b2391fde_c529_11e8_bd57_88787351decerow1_col5 {\n",
       "            background-color:  #509ac6;\n",
       "        }    #T_b2391fde_c529_11e8_bd57_88787351decerow1_col6 {\n",
       "            background-color:  #f0eaf4;\n",
       "        }    #T_b2391fde_c529_11e8_bd57_88787351decerow1_col7 {\n",
       "            background-color:  #05659f;\n",
       "        }    #T_b2391fde_c529_11e8_bd57_88787351decerow1_col8 {\n",
       "            background-color:  #ede7f2;\n",
       "        }    #T_b2391fde_c529_11e8_bd57_88787351decerow1_col9 {\n",
       "            background-color:  #e8e4f0;\n",
       "        }    #T_b2391fde_c529_11e8_bd57_88787351decerow1_col10 {\n",
       "            background-color:  #f4edf6;\n",
       "        }    #T_b2391fde_c529_11e8_bd57_88787351decerow1_col11 {\n",
       "            background-color:  #91b5d6;\n",
       "        }    #T_b2391fde_c529_11e8_bd57_88787351decerow1_col12 {\n",
       "            background-color:  #dfddec;\n",
       "        }    #T_b2391fde_c529_11e8_bd57_88787351decerow1_col13 {\n",
       "            background-color:  #348ebf;\n",
       "        }    #T_b2391fde_c529_11e8_bd57_88787351decerow2_col0 {\n",
       "            background-color:  #529bc7;\n",
       "        }    #T_b2391fde_c529_11e8_bd57_88787351decerow2_col1 {\n",
       "            background-color:  #fcf4fa;\n",
       "        }    #T_b2391fde_c529_11e8_bd57_88787351decerow2_col2 {\n",
       "            background-color:  #023858;\n",
       "        }    #T_b2391fde_c529_11e8_bd57_88787351decerow2_col3 {\n",
       "            background-color:  #e3e0ee;\n",
       "        }    #T_b2391fde_c529_11e8_bd57_88787351decerow2_col4 {\n",
       "            background-color:  #045b8f;\n",
       "        }    #T_b2391fde_c529_11e8_bd57_88787351decerow2_col5 {\n",
       "            background-color:  #e9e5f1;\n",
       "        }    #T_b2391fde_c529_11e8_bd57_88787351decerow2_col6 {\n",
       "            background-color:  #0568a3;\n",
       "        }    #T_b2391fde_c529_11e8_bd57_88787351decerow2_col7 {\n",
       "            background-color:  #faf3f9;\n",
       "        }    #T_b2391fde_c529_11e8_bd57_88787351decerow2_col8 {\n",
       "            background-color:  #0d75b3;\n",
       "        }    #T_b2391fde_c529_11e8_bd57_88787351decerow2_col9 {\n",
       "            background-color:  #04649d;\n",
       "        }    #T_b2391fde_c529_11e8_bd57_88787351decerow2_col10 {\n",
       "            background-color:  #4697c4;\n",
       "        }    #T_b2391fde_c529_11e8_bd57_88787351decerow2_col11 {\n",
       "            background-color:  #f6eff7;\n",
       "        }    #T_b2391fde_c529_11e8_bd57_88787351decerow2_col12 {\n",
       "            background-color:  #056caa;\n",
       "        }    #T_b2391fde_c529_11e8_bd57_88787351decerow2_col13 {\n",
       "            background-color:  #e7e3f0;\n",
       "        }    #T_b2391fde_c529_11e8_bd57_88787351decerow3_col0 {\n",
       "            background-color:  #d2d3e7;\n",
       "        }    #T_b2391fde_c529_11e8_bd57_88787351decerow3_col1 {\n",
       "            background-color:  #b4c4df;\n",
       "        }    #T_b2391fde_c529_11e8_bd57_88787351decerow3_col2 {\n",
       "            background-color:  #88b1d4;\n",
       "        }    #T_b2391fde_c529_11e8_bd57_88787351decerow3_col3 {\n",
       "            background-color:  #023858;\n",
       "        }    #T_b2391fde_c529_11e8_bd57_88787351decerow3_col4 {\n",
       "            background-color:  #79abd0;\n",
       "        }    #T_b2391fde_c529_11e8_bd57_88787351decerow3_col5 {\n",
       "            background-color:  #8eb3d5;\n",
       "        }    #T_b2391fde_c529_11e8_bd57_88787351decerow3_col6 {\n",
       "            background-color:  #7dacd1;\n",
       "        }    #T_b2391fde_c529_11e8_bd57_88787351decerow3_col7 {\n",
       "            background-color:  #a5bddb;\n",
       "        }    #T_b2391fde_c529_11e8_bd57_88787351decerow3_col8 {\n",
       "            background-color:  #b7c5df;\n",
       "        }    #T_b2391fde_c529_11e8_bd57_88787351decerow3_col9 {\n",
       "            background-color:  #b7c5df;\n",
       "        }    #T_b2391fde_c529_11e8_bd57_88787351decerow3_col10 {\n",
       "            background-color:  #ced0e6;\n",
       "        }    #T_b2391fde_c529_11e8_bd57_88787351decerow3_col11 {\n",
       "            background-color:  #b1c2de;\n",
       "        }    #T_b2391fde_c529_11e8_bd57_88787351decerow3_col12 {\n",
       "            background-color:  #9fbad9;\n",
       "        }    #T_b2391fde_c529_11e8_bd57_88787351decerow3_col13 {\n",
       "            background-color:  #67a4cc;\n",
       "        }    #T_b2391fde_c529_11e8_bd57_88787351decerow4_col0 {\n",
       "            background-color:  #4c99c5;\n",
       "        }    #T_b2391fde_c529_11e8_bd57_88787351decerow4_col1 {\n",
       "            background-color:  #faf3f9;\n",
       "        }    #T_b2391fde_c529_11e8_bd57_88787351decerow4_col2 {\n",
       "            background-color:  #045c90;\n",
       "        }    #T_b2391fde_c529_11e8_bd57_88787351decerow4_col3 {\n",
       "            background-color:  #dedcec;\n",
       "        }    #T_b2391fde_c529_11e8_bd57_88787351decerow4_col4 {\n",
       "            background-color:  #023858;\n",
       "        }    #T_b2391fde_c529_11e8_bd57_88787351decerow4_col5 {\n",
       "            background-color:  #dddbec;\n",
       "        }    #T_b2391fde_c529_11e8_bd57_88787351decerow4_col6 {\n",
       "            background-color:  #045f95;\n",
       "        }    #T_b2391fde_c529_11e8_bd57_88787351decerow4_col7 {\n",
       "            background-color:  #fff7fb;\n",
       "        }    #T_b2391fde_c529_11e8_bd57_88787351decerow4_col8 {\n",
       "            background-color:  #0872b1;\n",
       "        }    #T_b2391fde_c529_11e8_bd57_88787351decerow4_col9 {\n",
       "            background-color:  #056aa6;\n",
       "        }    #T_b2391fde_c529_11e8_bd57_88787351decerow4_col10 {\n",
       "            background-color:  #83afd3;\n",
       "        }    #T_b2391fde_c529_11e8_bd57_88787351decerow4_col11 {\n",
       "            background-color:  #f8f1f8;\n",
       "        }    #T_b2391fde_c529_11e8_bd57_88787351decerow4_col12 {\n",
       "            background-color:  #056dac;\n",
       "        }    #T_b2391fde_c529_11e8_bd57_88787351decerow4_col13 {\n",
       "            background-color:  #e0deed;\n",
       "        }    #T_b2391fde_c529_11e8_bd57_88787351decerow5_col0 {\n",
       "            background-color:  #ede8f3;\n",
       "        }    #T_b2391fde_c529_11e8_bd57_88787351decerow5_col1 {\n",
       "            background-color:  #569dc8;\n",
       "        }    #T_b2391fde_c529_11e8_bd57_88787351decerow5_col2 {\n",
       "            background-color:  #dfddec;\n",
       "        }    #T_b2391fde_c529_11e8_bd57_88787351decerow5_col3 {\n",
       "            background-color:  #dedcec;\n",
       "        }    #T_b2391fde_c529_11e8_bd57_88787351decerow5_col4 {\n",
       "            background-color:  #cccfe5;\n",
       "        }    #T_b2391fde_c529_11e8_bd57_88787351decerow5_col5 {\n",
       "            background-color:  #023858;\n",
       "        }    #T_b2391fde_c529_11e8_bd57_88787351decerow5_col6 {\n",
       "            background-color:  #c2cbe2;\n",
       "        }    #T_b2391fde_c529_11e8_bd57_88787351decerow5_col7 {\n",
       "            background-color:  #5a9ec9;\n",
       "        }    #T_b2391fde_c529_11e8_bd57_88787351decerow5_col8 {\n",
       "            background-color:  #dedcec;\n",
       "        }    #T_b2391fde_c529_11e8_bd57_88787351decerow5_col9 {\n",
       "            background-color:  #e5e1ef;\n",
       "        }    #T_b2391fde_c529_11e8_bd57_88787351decerow5_col10 {\n",
       "            background-color:  #f0eaf4;\n",
       "        }    #T_b2391fde_c529_11e8_bd57_88787351decerow5_col11 {\n",
       "            background-color:  #9ebad9;\n",
       "        }    #T_b2391fde_c529_11e8_bd57_88787351decerow5_col12 {\n",
       "            background-color:  #f4eef6;\n",
       "        }    #T_b2391fde_c529_11e8_bd57_88787351decerow5_col13 {\n",
       "            background-color:  #04629a;\n",
       "        }    #T_b2391fde_c529_11e8_bd57_88787351decerow6_col0 {\n",
       "            background-color:  #63a2cb;\n",
       "        }    #T_b2391fde_c529_11e8_bd57_88787351decerow6_col1 {\n",
       "            background-color:  #fff7fb;\n",
       "        }    #T_b2391fde_c529_11e8_bd57_88787351decerow6_col2 {\n",
       "            background-color:  #0569a4;\n",
       "        }    #T_b2391fde_c529_11e8_bd57_88787351decerow6_col3 {\n",
       "            background-color:  #dfddec;\n",
       "        }    #T_b2391fde_c529_11e8_bd57_88787351decerow6_col4 {\n",
       "            background-color:  #045e94;\n",
       "        }    #T_b2391fde_c529_11e8_bd57_88787351decerow6_col5 {\n",
       "            background-color:  #d4d4e8;\n",
       "        }    #T_b2391fde_c529_11e8_bd57_88787351decerow6_col6 {\n",
       "            background-color:  #023858;\n",
       "        }    #T_b2391fde_c529_11e8_bd57_88787351decerow6_col7 {\n",
       "            background-color:  #fdf5fa;\n",
       "        }    #T_b2391fde_c529_11e8_bd57_88787351decerow6_col8 {\n",
       "            background-color:  #328dbf;\n",
       "        }    #T_b2391fde_c529_11e8_bd57_88787351decerow6_col9 {\n",
       "            background-color:  #2182b9;\n",
       "        }    #T_b2391fde_c529_11e8_bd57_88787351decerow6_col10 {\n",
       "            background-color:  #6fa7ce;\n",
       "        }    #T_b2391fde_c529_11e8_bd57_88787351decerow6_col11 {\n",
       "            background-color:  #ede8f3;\n",
       "        }    #T_b2391fde_c529_11e8_bd57_88787351decerow6_col12 {\n",
       "            background-color:  #056caa;\n",
       "        }    #T_b2391fde_c529_11e8_bd57_88787351decerow6_col13 {\n",
       "            background-color:  #d9d8ea;\n",
       "        }    #T_b2391fde_c529_11e8_bd57_88787351decerow7_col0 {\n",
       "            background-color:  #fef6fb;\n",
       "        }    #T_b2391fde_c529_11e8_bd57_88787351decerow7_col1 {\n",
       "            background-color:  #0569a5;\n",
       "        }    #T_b2391fde_c529_11e8_bd57_88787351decerow7_col2 {\n",
       "            background-color:  #fff7fb;\n",
       "        }    #T_b2391fde_c529_11e8_bd57_88787351decerow7_col3 {\n",
       "            background-color:  #fcf4fa;\n",
       "        }    #T_b2391fde_c529_11e8_bd57_88787351decerow7_col4 {\n",
       "            background-color:  #fff7fb;\n",
       "        }    #T_b2391fde_c529_11e8_bd57_88787351decerow7_col5 {\n",
       "            background-color:  #71a8ce;\n",
       "        }    #T_b2391fde_c529_11e8_bd57_88787351decerow7_col6 {\n",
       "            background-color:  #fff7fb;\n",
       "        }    #T_b2391fde_c529_11e8_bd57_88787351decerow7_col7 {\n",
       "            background-color:  #023858;\n",
       "        }    #T_b2391fde_c529_11e8_bd57_88787351decerow7_col8 {\n",
       "            background-color:  #fff7fb;\n",
       "        }    #T_b2391fde_c529_11e8_bd57_88787351decerow7_col9 {\n",
       "            background-color:  #fff7fb;\n",
       "        }    #T_b2391fde_c529_11e8_bd57_88787351decerow7_col10 {\n",
       "            background-color:  #e0dded;\n",
       "        }    #T_b2391fde_c529_11e8_bd57_88787351decerow7_col11 {\n",
       "            background-color:  #6fa7ce;\n",
       "        }    #T_b2391fde_c529_11e8_bd57_88787351decerow7_col12 {\n",
       "            background-color:  #e9e5f1;\n",
       "        }    #T_b2391fde_c529_11e8_bd57_88787351decerow7_col13 {\n",
       "            background-color:  #529bc7;\n",
       "        }    #T_b2391fde_c529_11e8_bd57_88787351decerow8_col0 {\n",
       "            background-color:  #0d75b3;\n",
       "        }    #T_b2391fde_c529_11e8_bd57_88787351decerow8_col1 {\n",
       "            background-color:  #e3e0ee;\n",
       "        }    #T_b2391fde_c529_11e8_bd57_88787351decerow8_col2 {\n",
       "            background-color:  #056dac;\n",
       "        }    #T_b2391fde_c529_11e8_bd57_88787351decerow8_col3 {\n",
       "            background-color:  #f0eaf4;\n",
       "        }    #T_b2391fde_c529_11e8_bd57_88787351decerow8_col4 {\n",
       "            background-color:  #056ba7;\n",
       "        }    #T_b2391fde_c529_11e8_bd57_88787351decerow8_col5 {\n",
       "            background-color:  #d0d1e6;\n",
       "        }    #T_b2391fde_c529_11e8_bd57_88787351decerow8_col6 {\n",
       "            background-color:  #1c7fb8;\n",
       "        }    #T_b2391fde_c529_11e8_bd57_88787351decerow8_col7 {\n",
       "            background-color:  #e6e2ef;\n",
       "        }    #T_b2391fde_c529_11e8_bd57_88787351decerow8_col8 {\n",
       "            background-color:  #023858;\n",
       "        }    #T_b2391fde_c529_11e8_bd57_88787351decerow8_col9 {\n",
       "            background-color:  #03476f;\n",
       "        }    #T_b2391fde_c529_11e8_bd57_88787351decerow8_col10 {\n",
       "            background-color:  #2d8abd;\n",
       "        }    #T_b2391fde_c529_11e8_bd57_88787351decerow8_col11 {\n",
       "            background-color:  #fff7fb;\n",
       "        }    #T_b2391fde_c529_11e8_bd57_88787351decerow8_col12 {\n",
       "            background-color:  #167bb6;\n",
       "        }    #T_b2391fde_c529_11e8_bd57_88787351decerow8_col13 {\n",
       "            background-color:  #dad9ea;\n",
       "        }    #T_b2391fde_c529_11e8_bd57_88787351decerow9_col0 {\n",
       "            background-color:  #197db7;\n",
       "        }    #T_b2391fde_c529_11e8_bd57_88787351decerow9_col1 {\n",
       "            background-color:  #e4e1ef;\n",
       "        }    #T_b2391fde_c529_11e8_bd57_88787351decerow9_col2 {\n",
       "            background-color:  #046097;\n",
       "        }    #T_b2391fde_c529_11e8_bd57_88787351decerow9_col3 {\n",
       "            background-color:  #f4edf6;\n",
       "        }    #T_b2391fde_c529_11e8_bd57_88787351decerow9_col4 {\n",
       "            background-color:  #05659f;\n",
       "        }    #T_b2391fde_c529_11e8_bd57_88787351decerow9_col5 {\n",
       "            background-color:  #dbdaeb;\n",
       "        }    #T_b2391fde_c529_11e8_bd57_88787351decerow9_col6 {\n",
       "            background-color:  #1278b4;\n",
       "        }    #T_b2391fde_c529_11e8_bd57_88787351decerow9_col7 {\n",
       "            background-color:  #ebe6f2;\n",
       "        }    #T_b2391fde_c529_11e8_bd57_88787351decerow9_col8 {\n",
       "            background-color:  #034871;\n",
       "        }    #T_b2391fde_c529_11e8_bd57_88787351decerow9_col9 {\n",
       "            background-color:  #023858;\n",
       "        }    #T_b2391fde_c529_11e8_bd57_88787351decerow9_col10 {\n",
       "            background-color:  #2f8bbe;\n",
       "        }    #T_b2391fde_c529_11e8_bd57_88787351decerow9_col11 {\n",
       "            background-color:  #fff7fb;\n",
       "        }    #T_b2391fde_c529_11e8_bd57_88787351decerow9_col12 {\n",
       "            background-color:  #0a73b2;\n",
       "        }    #T_b2391fde_c529_11e8_bd57_88787351decerow9_col13 {\n",
       "            background-color:  #e6e2ef;\n",
       "        }    #T_b2391fde_c529_11e8_bd57_88787351decerow10_col0 {\n",
       "            background-color:  #79abd0;\n",
       "        }    #T_b2391fde_c529_11e8_bd57_88787351decerow10_col1 {\n",
       "            background-color:  #eee8f3;\n",
       "        }    #T_b2391fde_c529_11e8_bd57_88787351decerow10_col2 {\n",
       "            background-color:  #308cbe;\n",
       "        }    #T_b2391fde_c529_11e8_bd57_88787351decerow10_col3 {\n",
       "            background-color:  #fff7fb;\n",
       "        }    #T_b2391fde_c529_11e8_bd57_88787351decerow10_col4 {\n",
       "            background-color:  #60a1ca;\n",
       "        }    #T_b2391fde_c529_11e8_bd57_88787351decerow10_col5 {\n",
       "            background-color:  #e5e1ef;\n",
       "        }    #T_b2391fde_c529_11e8_bd57_88787351decerow10_col6 {\n",
       "            background-color:  #4e9ac6;\n",
       "        }    #T_b2391fde_c529_11e8_bd57_88787351decerow10_col7 {\n",
       "            background-color:  #bfc9e1;\n",
       "        }    #T_b2391fde_c529_11e8_bd57_88787351decerow10_col8 {\n",
       "            background-color:  #2f8bbe;\n",
       "        }    #T_b2391fde_c529_11e8_bd57_88787351decerow10_col9 {\n",
       "            background-color:  #2c89bd;\n",
       "        }    #T_b2391fde_c529_11e8_bd57_88787351decerow10_col10 {\n",
       "            background-color:  #023858;\n",
       "        }    #T_b2391fde_c529_11e8_bd57_88787351decerow10_col11 {\n",
       "            background-color:  #dfddec;\n",
       "        }    #T_b2391fde_c529_11e8_bd57_88787351decerow10_col12 {\n",
       "            background-color:  #308cbe;\n",
       "        }    #T_b2391fde_c529_11e8_bd57_88787351decerow10_col13 {\n",
       "            background-color:  #ebe6f2;\n",
       "        }    #T_b2391fde_c529_11e8_bd57_88787351decerow11_col0 {\n",
       "            background-color:  #fef6fb;\n",
       "        }    #T_b2391fde_c529_11e8_bd57_88787351decerow11_col1 {\n",
       "            background-color:  #7eadd1;\n",
       "        }    #T_b2391fde_c529_11e8_bd57_88787351decerow11_col2 {\n",
       "            background-color:  #dad9ea;\n",
       "        }    #T_b2391fde_c529_11e8_bd57_88787351decerow11_col3 {\n",
       "            background-color:  #e7e3f0;\n",
       "        }    #T_b2391fde_c529_11e8_bd57_88787351decerow11_col4 {\n",
       "            background-color:  #d7d6e9;\n",
       "        }    #T_b2391fde_c529_11e8_bd57_88787351decerow11_col5 {\n",
       "            background-color:  #84b0d3;\n",
       "        }    #T_b2391fde_c529_11e8_bd57_88787351decerow11_col6 {\n",
       "            background-color:  #c9cee4;\n",
       "        }    #T_b2391fde_c529_11e8_bd57_88787351decerow11_col7 {\n",
       "            background-color:  #4295c3;\n",
       "        }    #T_b2391fde_c529_11e8_bd57_88787351decerow11_col8 {\n",
       "            background-color:  #faf3f9;\n",
       "        }    #T_b2391fde_c529_11e8_bd57_88787351decerow11_col9 {\n",
       "            background-color:  #f6eff7;\n",
       "        }    #T_b2391fde_c529_11e8_bd57_88787351decerow11_col10 {\n",
       "            background-color:  #d7d6e9;\n",
       "        }    #T_b2391fde_c529_11e8_bd57_88787351decerow11_col11 {\n",
       "            background-color:  #023858;\n",
       "        }    #T_b2391fde_c529_11e8_bd57_88787351decerow11_col12 {\n",
       "            background-color:  #d9d8ea;\n",
       "        }    #T_b2391fde_c529_11e8_bd57_88787351decerow11_col13 {\n",
       "            background-color:  #3b92c1;\n",
       "        }    #T_b2391fde_c529_11e8_bd57_88787351decerow12_col0 {\n",
       "            background-color:  #4094c3;\n",
       "        }    #T_b2391fde_c529_11e8_bd57_88787351decerow12_col1 {\n",
       "            background-color:  #f0eaf4;\n",
       "        }    #T_b2391fde_c529_11e8_bd57_88787351decerow12_col2 {\n",
       "            background-color:  #056dab;\n",
       "        }    #T_b2391fde_c529_11e8_bd57_88787351decerow12_col3 {\n",
       "            background-color:  #f6eff7;\n",
       "        }    #T_b2391fde_c529_11e8_bd57_88787351decerow12_col4 {\n",
       "            background-color:  #056dab;\n",
       "        }    #T_b2391fde_c529_11e8_bd57_88787351decerow12_col5 {\n",
       "            background-color:  #fff7fb;\n",
       "        }    #T_b2391fde_c529_11e8_bd57_88787351decerow12_col6 {\n",
       "            background-color:  #056caa;\n",
       "        }    #T_b2391fde_c529_11e8_bd57_88787351decerow12_col7 {\n",
       "            background-color:  #e6e2ef;\n",
       "        }    #T_b2391fde_c529_11e8_bd57_88787351decerow12_col8 {\n",
       "            background-color:  #2987bc;\n",
       "        }    #T_b2391fde_c529_11e8_bd57_88787351decerow12_col9 {\n",
       "            background-color:  #187cb6;\n",
       "        }    #T_b2391fde_c529_11e8_bd57_88787351decerow12_col10 {\n",
       "            background-color:  #4a98c5;\n",
       "        }    #T_b2391fde_c529_11e8_bd57_88787351decerow12_col11 {\n",
       "            background-color:  #f7f0f7;\n",
       "        }    #T_b2391fde_c529_11e8_bd57_88787351decerow12_col12 {\n",
       "            background-color:  #023858;\n",
       "        }    #T_b2391fde_c529_11e8_bd57_88787351decerow12_col13 {\n",
       "            background-color:  #fff7fb;\n",
       "        }    #T_b2391fde_c529_11e8_bd57_88787351decerow13_col0 {\n",
       "            background-color:  #fff7fb;\n",
       "        }    #T_b2391fde_c529_11e8_bd57_88787351decerow13_col1 {\n",
       "            background-color:  #4697c4;\n",
       "        }    #T_b2391fde_c529_11e8_bd57_88787351decerow13_col2 {\n",
       "            background-color:  #ebe6f2;\n",
       "        }    #T_b2391fde_c529_11e8_bd57_88787351decerow13_col3 {\n",
       "            background-color:  #cccfe5;\n",
       "        }    #T_b2391fde_c529_11e8_bd57_88787351decerow13_col4 {\n",
       "            background-color:  #dddbec;\n",
       "        }    #T_b2391fde_c529_11e8_bd57_88787351decerow13_col5 {\n",
       "            background-color:  #05659f;\n",
       "        }    #T_b2391fde_c529_11e8_bd57_88787351decerow13_col6 {\n",
       "            background-color:  #d9d8ea;\n",
       "        }    #T_b2391fde_c529_11e8_bd57_88787351decerow13_col7 {\n",
       "            background-color:  #4e9ac6;\n",
       "        }    #T_b2391fde_c529_11e8_bd57_88787351decerow13_col8 {\n",
       "            background-color:  #f4edf6;\n",
       "        }    #T_b2391fde_c529_11e8_bd57_88787351decerow13_col9 {\n",
       "            background-color:  #f9f2f8;\n",
       "        }    #T_b2391fde_c529_11e8_bd57_88787351decerow13_col10 {\n",
       "            background-color:  #fff7fb;\n",
       "        }    #T_b2391fde_c529_11e8_bd57_88787351decerow13_col11 {\n",
       "            background-color:  #62a2cb;\n",
       "        }    #T_b2391fde_c529_11e8_bd57_88787351decerow13_col12 {\n",
       "            background-color:  #fff7fb;\n",
       "        }    #T_b2391fde_c529_11e8_bd57_88787351decerow13_col13 {\n",
       "            background-color:  #023858;\n",
       "        }</style>  \n",
       "<table id=\"T_b2391fde_c529_11e8_bd57_88787351dece\" > \n",
       "<thead>    <tr> \n",
       "        <th class=\"blank level0\" ></th> \n",
       "        <th class=\"col_heading level0 col0\" >CRIM</th> \n",
       "        <th class=\"col_heading level0 col1\" >ZN</th> \n",
       "        <th class=\"col_heading level0 col2\" >INDUS</th> \n",
       "        <th class=\"col_heading level0 col3\" >CHAS</th> \n",
       "        <th class=\"col_heading level0 col4\" >NOX</th> \n",
       "        <th class=\"col_heading level0 col5\" >RM</th> \n",
       "        <th class=\"col_heading level0 col6\" >AGE</th> \n",
       "        <th class=\"col_heading level0 col7\" >DIS</th> \n",
       "        <th class=\"col_heading level0 col8\" >RAD</th> \n",
       "        <th class=\"col_heading level0 col9\" >TAX</th> \n",
       "        <th class=\"col_heading level0 col10\" >PTRATIO</th> \n",
       "        <th class=\"col_heading level0 col11\" >B</th> \n",
       "        <th class=\"col_heading level0 col12\" >LSTAT</th> \n",
       "        <th class=\"col_heading level0 col13\" >TargetValues</th> \n",
       "    </tr></thead> \n",
       "<tbody>    <tr> \n",
       "        <th id=\"T_b2391fde_c529_11e8_bd57_88787351decelevel0_row0\" class=\"row_heading level0 row0\" >CRIM</th> \n",
       "        <td id=\"T_b2391fde_c529_11e8_bd57_88787351decerow0_col0\" class=\"data row0 col0\" >1</td> \n",
       "        <td id=\"T_b2391fde_c529_11e8_bd57_88787351decerow0_col1\" class=\"data row0 col1\" >-0.2</td> \n",
       "        <td id=\"T_b2391fde_c529_11e8_bd57_88787351decerow0_col2\" class=\"data row0 col2\" >0.4</td> \n",
       "        <td id=\"T_b2391fde_c529_11e8_bd57_88787351decerow0_col3\" class=\"data row0 col3\" >-0.055</td> \n",
       "        <td id=\"T_b2391fde_c529_11e8_bd57_88787351decerow0_col4\" class=\"data row0 col4\" >0.42</td> \n",
       "        <td id=\"T_b2391fde_c529_11e8_bd57_88787351decerow0_col5\" class=\"data row0 col5\" >-0.22</td> \n",
       "        <td id=\"T_b2391fde_c529_11e8_bd57_88787351decerow0_col6\" class=\"data row0 col6\" >0.35</td> \n",
       "        <td id=\"T_b2391fde_c529_11e8_bd57_88787351decerow0_col7\" class=\"data row0 col7\" >-0.38</td> \n",
       "        <td id=\"T_b2391fde_c529_11e8_bd57_88787351decerow0_col8\" class=\"data row0 col8\" >0.62</td> \n",
       "        <td id=\"T_b2391fde_c529_11e8_bd57_88787351decerow0_col9\" class=\"data row0 col9\" >0.58</td> \n",
       "        <td id=\"T_b2391fde_c529_11e8_bd57_88787351decerow0_col10\" class=\"data row0 col10\" >0.29</td> \n",
       "        <td id=\"T_b2391fde_c529_11e8_bd57_88787351decerow0_col11\" class=\"data row0 col11\" >-0.38</td> \n",
       "        <td id=\"T_b2391fde_c529_11e8_bd57_88787351decerow0_col12\" class=\"data row0 col12\" >0.45</td> \n",
       "        <td id=\"T_b2391fde_c529_11e8_bd57_88787351decerow0_col13\" class=\"data row0 col13\" >-0.39</td> \n",
       "    </tr>    <tr> \n",
       "        <th id=\"T_b2391fde_c529_11e8_bd57_88787351decelevel0_row1\" class=\"row_heading level0 row1\" >ZN</th> \n",
       "        <td id=\"T_b2391fde_c529_11e8_bd57_88787351decerow1_col0\" class=\"data row1 col0\" >-0.2</td> \n",
       "        <td id=\"T_b2391fde_c529_11e8_bd57_88787351decerow1_col1\" class=\"data row1 col1\" >1</td> \n",
       "        <td id=\"T_b2391fde_c529_11e8_bd57_88787351decerow1_col2\" class=\"data row1 col2\" >-0.53</td> \n",
       "        <td id=\"T_b2391fde_c529_11e8_bd57_88787351decerow1_col3\" class=\"data row1 col3\" >-0.043</td> \n",
       "        <td id=\"T_b2391fde_c529_11e8_bd57_88787351decerow1_col4\" class=\"data row1 col4\" >-0.52</td> \n",
       "        <td id=\"T_b2391fde_c529_11e8_bd57_88787351decerow1_col5\" class=\"data row1 col5\" >0.31</td> \n",
       "        <td id=\"T_b2391fde_c529_11e8_bd57_88787351decerow1_col6\" class=\"data row1 col6\" >-0.57</td> \n",
       "        <td id=\"T_b2391fde_c529_11e8_bd57_88787351decerow1_col7\" class=\"data row1 col7\" >0.66</td> \n",
       "        <td id=\"T_b2391fde_c529_11e8_bd57_88787351decerow1_col8\" class=\"data row1 col8\" >-0.31</td> \n",
       "        <td id=\"T_b2391fde_c529_11e8_bd57_88787351decerow1_col9\" class=\"data row1 col9\" >-0.31</td> \n",
       "        <td id=\"T_b2391fde_c529_11e8_bd57_88787351decerow1_col10\" class=\"data row1 col10\" >-0.39</td> \n",
       "        <td id=\"T_b2391fde_c529_11e8_bd57_88787351decerow1_col11\" class=\"data row1 col11\" >0.18</td> \n",
       "        <td id=\"T_b2391fde_c529_11e8_bd57_88787351decerow1_col12\" class=\"data row1 col12\" >-0.41</td> \n",
       "        <td id=\"T_b2391fde_c529_11e8_bd57_88787351decerow1_col13\" class=\"data row1 col13\" >0.36</td> \n",
       "    </tr>    <tr> \n",
       "        <th id=\"T_b2391fde_c529_11e8_bd57_88787351decelevel0_row2\" class=\"row_heading level0 row2\" >INDUS</th> \n",
       "        <td id=\"T_b2391fde_c529_11e8_bd57_88787351decerow2_col0\" class=\"data row2 col0\" >0.4</td> \n",
       "        <td id=\"T_b2391fde_c529_11e8_bd57_88787351decerow2_col1\" class=\"data row2 col1\" >-0.53</td> \n",
       "        <td id=\"T_b2391fde_c529_11e8_bd57_88787351decerow2_col2\" class=\"data row2 col2\" >1</td> \n",
       "        <td id=\"T_b2391fde_c529_11e8_bd57_88787351decerow2_col3\" class=\"data row2 col3\" >0.063</td> \n",
       "        <td id=\"T_b2391fde_c529_11e8_bd57_88787351decerow2_col4\" class=\"data row2 col4\" >0.76</td> \n",
       "        <td id=\"T_b2391fde_c529_11e8_bd57_88787351decerow2_col5\" class=\"data row2 col5\" >-0.39</td> \n",
       "        <td id=\"T_b2391fde_c529_11e8_bd57_88787351decerow2_col6\" class=\"data row2 col6\" >0.64</td> \n",
       "        <td id=\"T_b2391fde_c529_11e8_bd57_88787351decerow2_col7\" class=\"data row2 col7\" >-0.71</td> \n",
       "        <td id=\"T_b2391fde_c529_11e8_bd57_88787351decerow2_col8\" class=\"data row2 col8\" >0.6</td> \n",
       "        <td id=\"T_b2391fde_c529_11e8_bd57_88787351decerow2_col9\" class=\"data row2 col9\" >0.72</td> \n",
       "        <td id=\"T_b2391fde_c529_11e8_bd57_88787351decerow2_col10\" class=\"data row2 col10\" >0.38</td> \n",
       "        <td id=\"T_b2391fde_c529_11e8_bd57_88787351decerow2_col11\" class=\"data row2 col11\" >-0.36</td> \n",
       "        <td id=\"T_b2391fde_c529_11e8_bd57_88787351decerow2_col12\" class=\"data row2 col12\" >0.6</td> \n",
       "        <td id=\"T_b2391fde_c529_11e8_bd57_88787351decerow2_col13\" class=\"data row2 col13\" >-0.48</td> \n",
       "    </tr>    <tr> \n",
       "        <th id=\"T_b2391fde_c529_11e8_bd57_88787351decelevel0_row3\" class=\"row_heading level0 row3\" >CHAS</th> \n",
       "        <td id=\"T_b2391fde_c529_11e8_bd57_88787351decerow3_col0\" class=\"data row3 col0\" >-0.055</td> \n",
       "        <td id=\"T_b2391fde_c529_11e8_bd57_88787351decerow3_col1\" class=\"data row3 col1\" >-0.043</td> \n",
       "        <td id=\"T_b2391fde_c529_11e8_bd57_88787351decerow3_col2\" class=\"data row3 col2\" >0.063</td> \n",
       "        <td id=\"T_b2391fde_c529_11e8_bd57_88787351decerow3_col3\" class=\"data row3 col3\" >1</td> \n",
       "        <td id=\"T_b2391fde_c529_11e8_bd57_88787351decerow3_col4\" class=\"data row3 col4\" >0.091</td> \n",
       "        <td id=\"T_b2391fde_c529_11e8_bd57_88787351decerow3_col5\" class=\"data row3 col5\" >0.091</td> \n",
       "        <td id=\"T_b2391fde_c529_11e8_bd57_88787351decerow3_col6\" class=\"data row3 col6\" >0.087</td> \n",
       "        <td id=\"T_b2391fde_c529_11e8_bd57_88787351decerow3_col7\" class=\"data row3 col7\" >-0.099</td> \n",
       "        <td id=\"T_b2391fde_c529_11e8_bd57_88787351decerow3_col8\" class=\"data row3 col8\" >-0.0074</td> \n",
       "        <td id=\"T_b2391fde_c529_11e8_bd57_88787351decerow3_col9\" class=\"data row3 col9\" >-0.036</td> \n",
       "        <td id=\"T_b2391fde_c529_11e8_bd57_88787351decerow3_col10\" class=\"data row3 col10\" >-0.12</td> \n",
       "        <td id=\"T_b2391fde_c529_11e8_bd57_88787351decerow3_col11\" class=\"data row3 col11\" >0.049</td> \n",
       "        <td id=\"T_b2391fde_c529_11e8_bd57_88787351decerow3_col12\" class=\"data row3 col12\" >-0.054</td> \n",
       "        <td id=\"T_b2391fde_c529_11e8_bd57_88787351decerow3_col13\" class=\"data row3 col13\" >0.18</td> \n",
       "    </tr>    <tr> \n",
       "        <th id=\"T_b2391fde_c529_11e8_bd57_88787351decelevel0_row4\" class=\"row_heading level0 row4\" >NOX</th> \n",
       "        <td id=\"T_b2391fde_c529_11e8_bd57_88787351decerow4_col0\" class=\"data row4 col0\" >0.42</td> \n",
       "        <td id=\"T_b2391fde_c529_11e8_bd57_88787351decerow4_col1\" class=\"data row4 col1\" >-0.52</td> \n",
       "        <td id=\"T_b2391fde_c529_11e8_bd57_88787351decerow4_col2\" class=\"data row4 col2\" >0.76</td> \n",
       "        <td id=\"T_b2391fde_c529_11e8_bd57_88787351decerow4_col3\" class=\"data row4 col3\" >0.091</td> \n",
       "        <td id=\"T_b2391fde_c529_11e8_bd57_88787351decerow4_col4\" class=\"data row4 col4\" >1</td> \n",
       "        <td id=\"T_b2391fde_c529_11e8_bd57_88787351decerow4_col5\" class=\"data row4 col5\" >-0.3</td> \n",
       "        <td id=\"T_b2391fde_c529_11e8_bd57_88787351decerow4_col6\" class=\"data row4 col6\" >0.73</td> \n",
       "        <td id=\"T_b2391fde_c529_11e8_bd57_88787351decerow4_col7\" class=\"data row4 col7\" >-0.77</td> \n",
       "        <td id=\"T_b2391fde_c529_11e8_bd57_88787351decerow4_col8\" class=\"data row4 col8\" >0.61</td> \n",
       "        <td id=\"T_b2391fde_c529_11e8_bd57_88787351decerow4_col9\" class=\"data row4 col9\" >0.67</td> \n",
       "        <td id=\"T_b2391fde_c529_11e8_bd57_88787351decerow4_col10\" class=\"data row4 col10\" >0.19</td> \n",
       "        <td id=\"T_b2391fde_c529_11e8_bd57_88787351decerow4_col11\" class=\"data row4 col11\" >-0.38</td> \n",
       "        <td id=\"T_b2391fde_c529_11e8_bd57_88787351decerow4_col12\" class=\"data row4 col12\" >0.59</td> \n",
       "        <td id=\"T_b2391fde_c529_11e8_bd57_88787351decerow4_col13\" class=\"data row4 col13\" >-0.43</td> \n",
       "    </tr>    <tr> \n",
       "        <th id=\"T_b2391fde_c529_11e8_bd57_88787351decelevel0_row5\" class=\"row_heading level0 row5\" >RM</th> \n",
       "        <td id=\"T_b2391fde_c529_11e8_bd57_88787351decerow5_col0\" class=\"data row5 col0\" >-0.22</td> \n",
       "        <td id=\"T_b2391fde_c529_11e8_bd57_88787351decerow5_col1\" class=\"data row5 col1\" >0.31</td> \n",
       "        <td id=\"T_b2391fde_c529_11e8_bd57_88787351decerow5_col2\" class=\"data row5 col2\" >-0.39</td> \n",
       "        <td id=\"T_b2391fde_c529_11e8_bd57_88787351decerow5_col3\" class=\"data row5 col3\" >0.091</td> \n",
       "        <td id=\"T_b2391fde_c529_11e8_bd57_88787351decerow5_col4\" class=\"data row5 col4\" >-0.3</td> \n",
       "        <td id=\"T_b2391fde_c529_11e8_bd57_88787351decerow5_col5\" class=\"data row5 col5\" >1</td> \n",
       "        <td id=\"T_b2391fde_c529_11e8_bd57_88787351decerow5_col6\" class=\"data row5 col6\" >-0.24</td> \n",
       "        <td id=\"T_b2391fde_c529_11e8_bd57_88787351decerow5_col7\" class=\"data row5 col7\" >0.21</td> \n",
       "        <td id=\"T_b2391fde_c529_11e8_bd57_88787351decerow5_col8\" class=\"data row5 col8\" >-0.21</td> \n",
       "        <td id=\"T_b2391fde_c529_11e8_bd57_88787351decerow5_col9\" class=\"data row5 col9\" >-0.29</td> \n",
       "        <td id=\"T_b2391fde_c529_11e8_bd57_88787351decerow5_col10\" class=\"data row5 col10\" >-0.36</td> \n",
       "        <td id=\"T_b2391fde_c529_11e8_bd57_88787351decerow5_col11\" class=\"data row5 col11\" >0.13</td> \n",
       "        <td id=\"T_b2391fde_c529_11e8_bd57_88787351decerow5_col12\" class=\"data row5 col12\" >-0.61</td> \n",
       "        <td id=\"T_b2391fde_c529_11e8_bd57_88787351decerow5_col13\" class=\"data row5 col13\" >0.7</td> \n",
       "    </tr>    <tr> \n",
       "        <th id=\"T_b2391fde_c529_11e8_bd57_88787351decelevel0_row6\" class=\"row_heading level0 row6\" >AGE</th> \n",
       "        <td id=\"T_b2391fde_c529_11e8_bd57_88787351decerow6_col0\" class=\"data row6 col0\" >0.35</td> \n",
       "        <td id=\"T_b2391fde_c529_11e8_bd57_88787351decerow6_col1\" class=\"data row6 col1\" >-0.57</td> \n",
       "        <td id=\"T_b2391fde_c529_11e8_bd57_88787351decerow6_col2\" class=\"data row6 col2\" >0.64</td> \n",
       "        <td id=\"T_b2391fde_c529_11e8_bd57_88787351decerow6_col3\" class=\"data row6 col3\" >0.087</td> \n",
       "        <td id=\"T_b2391fde_c529_11e8_bd57_88787351decerow6_col4\" class=\"data row6 col4\" >0.73</td> \n",
       "        <td id=\"T_b2391fde_c529_11e8_bd57_88787351decerow6_col5\" class=\"data row6 col5\" >-0.24</td> \n",
       "        <td id=\"T_b2391fde_c529_11e8_bd57_88787351decerow6_col6\" class=\"data row6 col6\" >1</td> \n",
       "        <td id=\"T_b2391fde_c529_11e8_bd57_88787351decerow6_col7\" class=\"data row6 col7\" >-0.75</td> \n",
       "        <td id=\"T_b2391fde_c529_11e8_bd57_88787351decerow6_col8\" class=\"data row6 col8\" >0.46</td> \n",
       "        <td id=\"T_b2391fde_c529_11e8_bd57_88787351decerow6_col9\" class=\"data row6 col9\" >0.51</td> \n",
       "        <td id=\"T_b2391fde_c529_11e8_bd57_88787351decerow6_col10\" class=\"data row6 col10\" >0.26</td> \n",
       "        <td id=\"T_b2391fde_c529_11e8_bd57_88787351decerow6_col11\" class=\"data row6 col11\" >-0.27</td> \n",
       "        <td id=\"T_b2391fde_c529_11e8_bd57_88787351decerow6_col12\" class=\"data row6 col12\" >0.6</td> \n",
       "        <td id=\"T_b2391fde_c529_11e8_bd57_88787351decerow6_col13\" class=\"data row6 col13\" >-0.38</td> \n",
       "    </tr>    <tr> \n",
       "        <th id=\"T_b2391fde_c529_11e8_bd57_88787351decelevel0_row7\" class=\"row_heading level0 row7\" >DIS</th> \n",
       "        <td id=\"T_b2391fde_c529_11e8_bd57_88787351decerow7_col0\" class=\"data row7 col0\" >-0.38</td> \n",
       "        <td id=\"T_b2391fde_c529_11e8_bd57_88787351decerow7_col1\" class=\"data row7 col1\" >0.66</td> \n",
       "        <td id=\"T_b2391fde_c529_11e8_bd57_88787351decerow7_col2\" class=\"data row7 col2\" >-0.71</td> \n",
       "        <td id=\"T_b2391fde_c529_11e8_bd57_88787351decerow7_col3\" class=\"data row7 col3\" >-0.099</td> \n",
       "        <td id=\"T_b2391fde_c529_11e8_bd57_88787351decerow7_col4\" class=\"data row7 col4\" >-0.77</td> \n",
       "        <td id=\"T_b2391fde_c529_11e8_bd57_88787351decerow7_col5\" class=\"data row7 col5\" >0.21</td> \n",
       "        <td id=\"T_b2391fde_c529_11e8_bd57_88787351decerow7_col6\" class=\"data row7 col6\" >-0.75</td> \n",
       "        <td id=\"T_b2391fde_c529_11e8_bd57_88787351decerow7_col7\" class=\"data row7 col7\" >1</td> \n",
       "        <td id=\"T_b2391fde_c529_11e8_bd57_88787351decerow7_col8\" class=\"data row7 col8\" >-0.49</td> \n",
       "        <td id=\"T_b2391fde_c529_11e8_bd57_88787351decerow7_col9\" class=\"data row7 col9\" >-0.53</td> \n",
       "        <td id=\"T_b2391fde_c529_11e8_bd57_88787351decerow7_col10\" class=\"data row7 col10\" >-0.23</td> \n",
       "        <td id=\"T_b2391fde_c529_11e8_bd57_88787351decerow7_col11\" class=\"data row7 col11\" >0.29</td> \n",
       "        <td id=\"T_b2391fde_c529_11e8_bd57_88787351decerow7_col12\" class=\"data row7 col12\" >-0.5</td> \n",
       "        <td id=\"T_b2391fde_c529_11e8_bd57_88787351decerow7_col13\" class=\"data row7 col13\" >0.25</td> \n",
       "    </tr>    <tr> \n",
       "        <th id=\"T_b2391fde_c529_11e8_bd57_88787351decelevel0_row8\" class=\"row_heading level0 row8\" >RAD</th> \n",
       "        <td id=\"T_b2391fde_c529_11e8_bd57_88787351decerow8_col0\" class=\"data row8 col0\" >0.62</td> \n",
       "        <td id=\"T_b2391fde_c529_11e8_bd57_88787351decerow8_col1\" class=\"data row8 col1\" >-0.31</td> \n",
       "        <td id=\"T_b2391fde_c529_11e8_bd57_88787351decerow8_col2\" class=\"data row8 col2\" >0.6</td> \n",
       "        <td id=\"T_b2391fde_c529_11e8_bd57_88787351decerow8_col3\" class=\"data row8 col3\" >-0.0074</td> \n",
       "        <td id=\"T_b2391fde_c529_11e8_bd57_88787351decerow8_col4\" class=\"data row8 col4\" >0.61</td> \n",
       "        <td id=\"T_b2391fde_c529_11e8_bd57_88787351decerow8_col5\" class=\"data row8 col5\" >-0.21</td> \n",
       "        <td id=\"T_b2391fde_c529_11e8_bd57_88787351decerow8_col6\" class=\"data row8 col6\" >0.46</td> \n",
       "        <td id=\"T_b2391fde_c529_11e8_bd57_88787351decerow8_col7\" class=\"data row8 col7\" >-0.49</td> \n",
       "        <td id=\"T_b2391fde_c529_11e8_bd57_88787351decerow8_col8\" class=\"data row8 col8\" >1</td> \n",
       "        <td id=\"T_b2391fde_c529_11e8_bd57_88787351decerow8_col9\" class=\"data row8 col9\" >0.91</td> \n",
       "        <td id=\"T_b2391fde_c529_11e8_bd57_88787351decerow8_col10\" class=\"data row8 col10\" >0.46</td> \n",
       "        <td id=\"T_b2391fde_c529_11e8_bd57_88787351decerow8_col11\" class=\"data row8 col11\" >-0.44</td> \n",
       "        <td id=\"T_b2391fde_c529_11e8_bd57_88787351decerow8_col12\" class=\"data row8 col12\" >0.49</td> \n",
       "        <td id=\"T_b2391fde_c529_11e8_bd57_88787351decerow8_col13\" class=\"data row8 col13\" >-0.38</td> \n",
       "    </tr>    <tr> \n",
       "        <th id=\"T_b2391fde_c529_11e8_bd57_88787351decelevel0_row9\" class=\"row_heading level0 row9\" >TAX</th> \n",
       "        <td id=\"T_b2391fde_c529_11e8_bd57_88787351decerow9_col0\" class=\"data row9 col0\" >0.58</td> \n",
       "        <td id=\"T_b2391fde_c529_11e8_bd57_88787351decerow9_col1\" class=\"data row9 col1\" >-0.31</td> \n",
       "        <td id=\"T_b2391fde_c529_11e8_bd57_88787351decerow9_col2\" class=\"data row9 col2\" >0.72</td> \n",
       "        <td id=\"T_b2391fde_c529_11e8_bd57_88787351decerow9_col3\" class=\"data row9 col3\" >-0.036</td> \n",
       "        <td id=\"T_b2391fde_c529_11e8_bd57_88787351decerow9_col4\" class=\"data row9 col4\" >0.67</td> \n",
       "        <td id=\"T_b2391fde_c529_11e8_bd57_88787351decerow9_col5\" class=\"data row9 col5\" >-0.29</td> \n",
       "        <td id=\"T_b2391fde_c529_11e8_bd57_88787351decerow9_col6\" class=\"data row9 col6\" >0.51</td> \n",
       "        <td id=\"T_b2391fde_c529_11e8_bd57_88787351decerow9_col7\" class=\"data row9 col7\" >-0.53</td> \n",
       "        <td id=\"T_b2391fde_c529_11e8_bd57_88787351decerow9_col8\" class=\"data row9 col8\" >0.91</td> \n",
       "        <td id=\"T_b2391fde_c529_11e8_bd57_88787351decerow9_col9\" class=\"data row9 col9\" >1</td> \n",
       "        <td id=\"T_b2391fde_c529_11e8_bd57_88787351decerow9_col10\" class=\"data row9 col10\" >0.46</td> \n",
       "        <td id=\"T_b2391fde_c529_11e8_bd57_88787351decerow9_col11\" class=\"data row9 col11\" >-0.44</td> \n",
       "        <td id=\"T_b2391fde_c529_11e8_bd57_88787351decerow9_col12\" class=\"data row9 col12\" >0.54</td> \n",
       "        <td id=\"T_b2391fde_c529_11e8_bd57_88787351decerow9_col13\" class=\"data row9 col13\" >-0.47</td> \n",
       "    </tr>    <tr> \n",
       "        <th id=\"T_b2391fde_c529_11e8_bd57_88787351decelevel0_row10\" class=\"row_heading level0 row10\" >PTRATIO</th> \n",
       "        <td id=\"T_b2391fde_c529_11e8_bd57_88787351decerow10_col0\" class=\"data row10 col0\" >0.29</td> \n",
       "        <td id=\"T_b2391fde_c529_11e8_bd57_88787351decerow10_col1\" class=\"data row10 col1\" >-0.39</td> \n",
       "        <td id=\"T_b2391fde_c529_11e8_bd57_88787351decerow10_col2\" class=\"data row10 col2\" >0.38</td> \n",
       "        <td id=\"T_b2391fde_c529_11e8_bd57_88787351decerow10_col3\" class=\"data row10 col3\" >-0.12</td> \n",
       "        <td id=\"T_b2391fde_c529_11e8_bd57_88787351decerow10_col4\" class=\"data row10 col4\" >0.19</td> \n",
       "        <td id=\"T_b2391fde_c529_11e8_bd57_88787351decerow10_col5\" class=\"data row10 col5\" >-0.36</td> \n",
       "        <td id=\"T_b2391fde_c529_11e8_bd57_88787351decerow10_col6\" class=\"data row10 col6\" >0.26</td> \n",
       "        <td id=\"T_b2391fde_c529_11e8_bd57_88787351decerow10_col7\" class=\"data row10 col7\" >-0.23</td> \n",
       "        <td id=\"T_b2391fde_c529_11e8_bd57_88787351decerow10_col8\" class=\"data row10 col8\" >0.46</td> \n",
       "        <td id=\"T_b2391fde_c529_11e8_bd57_88787351decerow10_col9\" class=\"data row10 col9\" >0.46</td> \n",
       "        <td id=\"T_b2391fde_c529_11e8_bd57_88787351decerow10_col10\" class=\"data row10 col10\" >1</td> \n",
       "        <td id=\"T_b2391fde_c529_11e8_bd57_88787351decerow10_col11\" class=\"data row10 col11\" >-0.18</td> \n",
       "        <td id=\"T_b2391fde_c529_11e8_bd57_88787351decerow10_col12\" class=\"data row10 col12\" >0.37</td> \n",
       "        <td id=\"T_b2391fde_c529_11e8_bd57_88787351decerow10_col13\" class=\"data row10 col13\" >-0.51</td> \n",
       "    </tr>    <tr> \n",
       "        <th id=\"T_b2391fde_c529_11e8_bd57_88787351decelevel0_row11\" class=\"row_heading level0 row11\" >B</th> \n",
       "        <td id=\"T_b2391fde_c529_11e8_bd57_88787351decerow11_col0\" class=\"data row11 col0\" >-0.38</td> \n",
       "        <td id=\"T_b2391fde_c529_11e8_bd57_88787351decerow11_col1\" class=\"data row11 col1\" >0.18</td> \n",
       "        <td id=\"T_b2391fde_c529_11e8_bd57_88787351decerow11_col2\" class=\"data row11 col2\" >-0.36</td> \n",
       "        <td id=\"T_b2391fde_c529_11e8_bd57_88787351decerow11_col3\" class=\"data row11 col3\" >0.049</td> \n",
       "        <td id=\"T_b2391fde_c529_11e8_bd57_88787351decerow11_col4\" class=\"data row11 col4\" >-0.38</td> \n",
       "        <td id=\"T_b2391fde_c529_11e8_bd57_88787351decerow11_col5\" class=\"data row11 col5\" >0.13</td> \n",
       "        <td id=\"T_b2391fde_c529_11e8_bd57_88787351decerow11_col6\" class=\"data row11 col6\" >-0.27</td> \n",
       "        <td id=\"T_b2391fde_c529_11e8_bd57_88787351decerow11_col7\" class=\"data row11 col7\" >0.29</td> \n",
       "        <td id=\"T_b2391fde_c529_11e8_bd57_88787351decerow11_col8\" class=\"data row11 col8\" >-0.44</td> \n",
       "        <td id=\"T_b2391fde_c529_11e8_bd57_88787351decerow11_col9\" class=\"data row11 col9\" >-0.44</td> \n",
       "        <td id=\"T_b2391fde_c529_11e8_bd57_88787351decerow11_col10\" class=\"data row11 col10\" >-0.18</td> \n",
       "        <td id=\"T_b2391fde_c529_11e8_bd57_88787351decerow11_col11\" class=\"data row11 col11\" >1</td> \n",
       "        <td id=\"T_b2391fde_c529_11e8_bd57_88787351decerow11_col12\" class=\"data row11 col12\" >-0.37</td> \n",
       "        <td id=\"T_b2391fde_c529_11e8_bd57_88787351decerow11_col13\" class=\"data row11 col13\" >0.33</td> \n",
       "    </tr>    <tr> \n",
       "        <th id=\"T_b2391fde_c529_11e8_bd57_88787351decelevel0_row12\" class=\"row_heading level0 row12\" >LSTAT</th> \n",
       "        <td id=\"T_b2391fde_c529_11e8_bd57_88787351decerow12_col0\" class=\"data row12 col0\" >0.45</td> \n",
       "        <td id=\"T_b2391fde_c529_11e8_bd57_88787351decerow12_col1\" class=\"data row12 col1\" >-0.41</td> \n",
       "        <td id=\"T_b2391fde_c529_11e8_bd57_88787351decerow12_col2\" class=\"data row12 col2\" >0.6</td> \n",
       "        <td id=\"T_b2391fde_c529_11e8_bd57_88787351decerow12_col3\" class=\"data row12 col3\" >-0.054</td> \n",
       "        <td id=\"T_b2391fde_c529_11e8_bd57_88787351decerow12_col4\" class=\"data row12 col4\" >0.59</td> \n",
       "        <td id=\"T_b2391fde_c529_11e8_bd57_88787351decerow12_col5\" class=\"data row12 col5\" >-0.61</td> \n",
       "        <td id=\"T_b2391fde_c529_11e8_bd57_88787351decerow12_col6\" class=\"data row12 col6\" >0.6</td> \n",
       "        <td id=\"T_b2391fde_c529_11e8_bd57_88787351decerow12_col7\" class=\"data row12 col7\" >-0.5</td> \n",
       "        <td id=\"T_b2391fde_c529_11e8_bd57_88787351decerow12_col8\" class=\"data row12 col8\" >0.49</td> \n",
       "        <td id=\"T_b2391fde_c529_11e8_bd57_88787351decerow12_col9\" class=\"data row12 col9\" >0.54</td> \n",
       "        <td id=\"T_b2391fde_c529_11e8_bd57_88787351decerow12_col10\" class=\"data row12 col10\" >0.37</td> \n",
       "        <td id=\"T_b2391fde_c529_11e8_bd57_88787351decerow12_col11\" class=\"data row12 col11\" >-0.37</td> \n",
       "        <td id=\"T_b2391fde_c529_11e8_bd57_88787351decerow12_col12\" class=\"data row12 col12\" >1</td> \n",
       "        <td id=\"T_b2391fde_c529_11e8_bd57_88787351decerow12_col13\" class=\"data row12 col13\" >-0.74</td> \n",
       "    </tr>    <tr> \n",
       "        <th id=\"T_b2391fde_c529_11e8_bd57_88787351decelevel0_row13\" class=\"row_heading level0 row13\" >TargetValues</th> \n",
       "        <td id=\"T_b2391fde_c529_11e8_bd57_88787351decerow13_col0\" class=\"data row13 col0\" >-0.39</td> \n",
       "        <td id=\"T_b2391fde_c529_11e8_bd57_88787351decerow13_col1\" class=\"data row13 col1\" >0.36</td> \n",
       "        <td id=\"T_b2391fde_c529_11e8_bd57_88787351decerow13_col2\" class=\"data row13 col2\" >-0.48</td> \n",
       "        <td id=\"T_b2391fde_c529_11e8_bd57_88787351decerow13_col3\" class=\"data row13 col3\" >0.18</td> \n",
       "        <td id=\"T_b2391fde_c529_11e8_bd57_88787351decerow13_col4\" class=\"data row13 col4\" >-0.43</td> \n",
       "        <td id=\"T_b2391fde_c529_11e8_bd57_88787351decerow13_col5\" class=\"data row13 col5\" >0.7</td> \n",
       "        <td id=\"T_b2391fde_c529_11e8_bd57_88787351decerow13_col6\" class=\"data row13 col6\" >-0.38</td> \n",
       "        <td id=\"T_b2391fde_c529_11e8_bd57_88787351decerow13_col7\" class=\"data row13 col7\" >0.25</td> \n",
       "        <td id=\"T_b2391fde_c529_11e8_bd57_88787351decerow13_col8\" class=\"data row13 col8\" >-0.38</td> \n",
       "        <td id=\"T_b2391fde_c529_11e8_bd57_88787351decerow13_col9\" class=\"data row13 col9\" >-0.47</td> \n",
       "        <td id=\"T_b2391fde_c529_11e8_bd57_88787351decerow13_col10\" class=\"data row13 col10\" >-0.51</td> \n",
       "        <td id=\"T_b2391fde_c529_11e8_bd57_88787351decerow13_col11\" class=\"data row13 col11\" >0.33</td> \n",
       "        <td id=\"T_b2391fde_c529_11e8_bd57_88787351decerow13_col12\" class=\"data row13 col12\" >-0.74</td> \n",
       "        <td id=\"T_b2391fde_c529_11e8_bd57_88787351decerow13_col13\" class=\"data row13 col13\" >1</td> \n",
       "    </tr></tbody> \n",
       "</table> "
      ],
      "text/plain": [
       "<pandas.io.formats.style.Styler at 0x1f885e78550>"
      ]
     },
     "execution_count": 31,
     "metadata": {},
     "output_type": "execute_result"
    }
   ],
   "source": [
    "\n",
    "\n",
    "myDataFrame.insert(13,'TargetValues',dataset.target) # dataset.target has  been added to the data frame \n",
    "print(myDataFrame)                                   # dataframe with all the values present\n",
    "\n",
    "print(myDataFrame.corr())   #corelation matrix\n",
    "myDataFrame.corr().style.background_gradient().set_precision(2)   # corealtion matrix , graphical representation of corelation matrix\n",
    "\n",
    "\n",
    "\n",
    "    \n",
    "    \n",
    "    "
   ]
  },
  {
   "cell_type": "code",
   "execution_count": 29,
   "metadata": {},
   "outputs": [
    {
     "name": "stdout",
     "output_type": "stream",
     "text": [
      "The coorelation coefficient for lstat  & RM indicates a negative corealtion -0.61\n"
     ]
    }
   ],
   "source": [
    "\n",
    "print(\"The coorelation coefficient for lstat  & RM indicates a negative corealtion\",-0.61)"
   ]
  },
  {
   "cell_type": "markdown",
   "metadata": {},
   "source": [
    "======================================================================================================================="
   ]
  },
  {
   "cell_type": "markdown",
   "metadata": {},
   "source": [
    "\n"
   ]
  },
  {
   "cell_type": "markdown",
   "metadata": {},
   "source": [
    "<b>Problem #3-6 </b> Scatter plot. <br> \n",
    "\n",
    "Follow three steps to answer questions <br> \n",
    "- Plot RM versus target variable \n",
    "- Plot TAX versus target variable \n",
    "- Plot LSTAT versus target variable <br> \n",
    "\n",
    "<b> Answer the following questions:</b> \n",
    "- Is the relationship linear?\n",
    "- Which looks the most nonlinear? Explain your choice\n"
   ]
  },
  {
   "cell_type": "markdown",
   "metadata": {},
   "source": [
    "**Plot RM versus target variable**"
   ]
  },
  {
   "cell_type": "code",
   "execution_count": 19,
   "metadata": {},
   "outputs": [
    {
     "data": {
      "text/plain": [
       "Text(0,0.5,'Target Column of Data Frame')"
      ]
     },
     "execution_count": 19,
     "metadata": {},
     "output_type": "execute_result"
    },
    {
     "data": {
      "image/png": "[encoded data removed]",
      "text/plain": [
       "<Figure size 432x288 with 1 Axes>"
      ]
     },
     "metadata": {},
     "output_type": "display_data"
    }
   ],
   "source": [
    "#code here\n",
    "X=myDataFrame.RM                 \n",
    "Y=myDataFrame['TargetValues']\n",
    "plt.scatter(X,Y,marker='o')\n",
    "plt.xlabel('RM Column of Data Frame')\n",
    "plt.ylabel('Target Column of Data Frame')"
   ]
  },
  {
   "cell_type": "markdown",
   "metadata": {},
   "source": [
    "**Plot TAX versus target variable**"
   ]
  },
  {
   "cell_type": "code",
   "execution_count": 20,
   "metadata": {},
   "outputs": [
    {
     "data": {
      "text/plain": [
       "Text(0,0.5,'Target Column of Data Frame')"
      ]
     },
     "execution_count": 20,
     "metadata": {},
     "output_type": "execute_result"
    },
    {
     "data": {
      "image/png": "[encoded data removed]",
      "text/plain": [
       "<Figure size 432x288 with 1 Axes>"
      ]
     },
     "metadata": {},
     "output_type": "display_data"
    }
   ],
   "source": [
    "#code here\n",
    "X=myDataFrame.TAX                 \n",
    "Y=myDataFrame['TargetValues']\n",
    "plt.scatter(X,Y,marker='o')\n",
    "plt.xlabel('TAX Column of Data Frame')\n",
    "plt.ylabel('Target Column of Data Frame')"
   ]
  },
  {
   "cell_type": "markdown",
   "metadata": {},
   "source": [
    "**Plot LSTAT versus target variable **"
   ]
  },
  {
   "cell_type": "code",
   "execution_count": 21,
   "metadata": {},
   "outputs": [
    {
     "data": {
      "text/plain": [
       "Text(0,0.5,'Target Column of Data Frame')"
      ]
     },
     "execution_count": 21,
     "metadata": {},
     "output_type": "execute_result"
    },
    {
     "data": {
      "image/png": "[encoded data removed]",
      "text/plain": [
       "<Figure size 432x288 with 1 Axes>"
      ]
     },
     "metadata": {},
     "output_type": "display_data"
    }
   ],
   "source": [
    "#code here\n",
    "X=myDataFrame.LSTAT                 \n",
    "Y=myDataFrame['TargetValues']\n",
    "plt.scatter(X,Y,marker='o')\n",
    "plt.xlabel('LSTAT Column of Data Frame')\n",
    "plt.ylabel('Target Column of Data Frame')"
   ]
  },
  {
   "cell_type": "markdown",
   "metadata": {},
   "source": [
    "The are not linear. TAX v/s the Target Values is the most non linear, as for most values of TAX there are multiple value of target values thus exibiting non lineraity. "
   ]
  },
  {
   "cell_type": "markdown",
   "metadata": {},
   "source": [
    "<b>Problem #3-7.</b> Follow steps to answer questions.\n",
    "> *Use train_test_split() with the option \"random_state=0\".\n",
    "\n",
    "1. Fit a linear regression model with RM and LSTAT features only. Find the R-squared metric. \n",
    "2. Fit a linear regression model using RM, LSTAT and include the interaction term (RM * LSTAT). How R-squared metric differs from the previous model without interaction term?\n",
    "3. Fit a linear regression model using LSTAT and include the polynomial term ( $LSTAT^2$).  Find the R-squared metric.\n",
    "4. Fit linear regression model using LSTAT and include the polynomial term ( $LSTAT^2$ and $LSTAT^4$ ). Find the R-squared metric. \n",
    "- How does R-squared metric differ in the previous models ? <br> Comment your observation. "
   ]
  },
  {
   "cell_type": "markdown",
   "metadata": {},
   "source": [
    "**1.  Fit a linear regression model with RM and LSTAT features only**"
   ]
  },
  {
   "cell_type": "code",
   "execution_count": 35,
   "metadata": {},
   "outputs": [
    {
     "name": "stdout",
     "output_type": "stream",
     "text": [
      "0       4.98\n",
      "1       9.14\n",
      "2       4.03\n",
      "3       2.94\n",
      "4       5.33\n",
      "5       5.21\n",
      "6      12.43\n",
      "7      19.15\n",
      "8      29.93\n",
      "9      17.10\n",
      "10     20.45\n",
      "11     13.27\n",
      "12     15.71\n",
      "13      8.26\n",
      "14     10.26\n",
      "15      8.47\n",
      "16      6.58\n",
      "17     14.67\n",
      "18     11.69\n",
      "19     11.28\n",
      "20     21.02\n",
      "21     13.83\n",
      "22     18.72\n",
      "23     19.88\n",
      "24     16.30\n",
      "25     16.51\n",
      "26     14.81\n",
      "27     17.28\n",
      "28     12.80\n",
      "29     11.98\n",
      "       ...  \n",
      "476    18.68\n",
      "477    24.91\n",
      "478    18.03\n",
      "479    13.11\n",
      "480    10.74\n",
      "481     7.74\n",
      "482     7.01\n",
      "483    10.42\n",
      "484    13.34\n",
      "485    10.58\n",
      "486    14.98\n",
      "487    11.45\n",
      "488    18.06\n",
      "489    23.97\n",
      "490    29.68\n",
      "491    18.07\n",
      "492    13.35\n",
      "493    12.01\n",
      "494    13.59\n",
      "495    17.60\n",
      "496    21.14\n",
      "497    14.10\n",
      "498    12.92\n",
      "499    15.10\n",
      "500    14.33\n",
      "501     9.67\n",
      "502     9.08\n",
      "503     5.64\n",
      "504     6.48\n",
      "505     7.88\n",
      "Name: LSTAT, Length: 506, dtype: float64\n",
      "R2 metric for RM LMSTAT features is 0.5692445415835345\n"
     ]
    }
   ],
   "source": [
    "#code here\n",
    "print(myDataFrame.LSTAT)\n",
    "X=myDataFrame[['RM','LSTAT']].values\n",
    "Y=myDataFrame[['TargetValues']].values\n",
    "\n",
    "from sklearn.metrics import  r2_score\n",
    "\n",
    "X_train, X_test, Y_train, Y_test = train_test_split(X,Y,random_state=0)\n",
    "linreg=LinearRegression().fit(X_train,Y_train)\n",
    "Target_predicted= linreg.predict(X_test)\n",
    "print(\"R2 metric for RM LMSTAT features is\",r2_score(Y_test,Target_predicted))\n",
    "\n"
   ]
  },
  {
   "cell_type": "markdown",
   "metadata": {},
   "source": [
    "**2 Fit a linear regression model using RM, LSTAT and include the interaction term (RM * LSTAT)**"
   ]
  },
  {
   "cell_type": "code",
   "execution_count": 23,
   "metadata": {},
   "outputs": [
    {
     "name": "stdout",
     "output_type": "stream",
     "text": [
      "R2 metric for RM, LMSTAT  & RM*LSTAT features is 0.6615207706770674\n"
     ]
    }
   ],
   "source": [
    "#code here\n",
    "\n",
    "myDataFrame['InteractionTerm1']=myDataFrame.RM*myDataFrame.LSTAT\n",
    "X=myDataFrame[['RM','LSTAT','InteractionTerm1']].values\n",
    "Y=myDataFrame[['TargetValues']].values\n",
    "\n",
    "X_train, X_test, Y_train, Y_test = train_test_split(X,Y,random_state=0)\n",
    "linreg=LinearRegression().fit(X_train,Y_train)\n",
    "Target_predicted= linreg.predict(X_test)\n",
    "print(\"R2 metric for RM, LMSTAT  & RM*LSTAT features is\",r2_score(Y_test,Target_predicted))\n",
    "\n",
    "# The R2 metric has increased from 0.56 to 0.66 by adding the interaction term thus increasing the model accuracy"
   ]
  },
  {
   "cell_type": "markdown",
   "metadata": {},
   "source": [
    "**3 Fit a linear regression model using LSTAT and include the polynomial term (  LSTAT^2 )**"
   ]
  },
  {
   "cell_type": "code",
   "execution_count": 36,
   "metadata": {},
   "outputs": [
    {
     "name": "stdout",
     "output_type": "stream",
     "text": [
      "R2 metric for  LSTAT  & LSTAT*LSTAT features is 0.5518753354137798\n"
     ]
    }
   ],
   "source": [
    "#code here\n",
    "myDataFrame['LSTAT2']=myDataFrame.LSTAT*myDataFrame.LSTAT\n",
    "X=myDataFrame[['LSTAT','LSTAT2']].values\n",
    "Y=myDataFrame[['TargetValues']].values\n",
    "\n",
    "X_train, X_test, Y_train, Y_test = train_test_split(X,Y,random_state=0)\n",
    "linreg=LinearRegression().fit(X_train,Y_train)\n",
    "Target_predicted= linreg.predict(X_test)\n",
    "print(\"R2 metric for  LSTAT  & LSTAT*LSTAT features is\",r2_score(Y_test,Target_predicted))\n"
   ]
  },
  {
   "cell_type": "markdown",
   "metadata": {},
   "source": [
    "**4. Fit linear regression model using LSTAT and include the polynomial term (  LSTAT^2  and  LSTAT^4)**"
   ]
  },
  {
   "cell_type": "code",
   "execution_count": 37,
   "metadata": {},
   "outputs": [
    {
     "name": "stdout",
     "output_type": "stream",
     "text": [
      "R2 metric for  LSTAT^2  & LSTAT^4 features is 0.5696493127277785\n"
     ]
    }
   ],
   "source": [
    "#code here\n",
    "myDataFrame['LSTAT2']=myDataFrame.LSTAT*myDataFrame.LSTAT\n",
    "myDataFrame['LSTAT4']=myDataFrame.LSTAT*myDataFrame.LSTAT*myDataFrame.LSTAT*myDataFrame.LSTAT\n",
    "\n",
    "X=myDataFrame[['LSTAT','LSTAT2','LSTAT4']].values\n",
    "Y=myDataFrame[['TargetValues']].values\n",
    "\n",
    "X_train, X_test, Y_train, Y_test = train_test_split(X,Y,random_state=0)\n",
    "linreg=LinearRegression().fit(X_train,Y_train)\n",
    "Target_predicted= linreg.predict(X_test)\n",
    "print(\"R2 metric for  LSTAT^2  & LSTAT^4 features is\",r2_score(Y_test,Target_predicted))"
   ]
  },
  {
   "cell_type": "markdown",
   "metadata": {},
   "source": [
    "Addition (LSTAT & RM) interaction terms to the model   leds to the  most increase in R2 score of the model. Thus we can say that the model is most accuarte when including the interaction term (LSTAT & RM)."
   ]
  },
  {
   "cell_type": "markdown",
   "metadata": {},
   "source": [
    "<b>Problem #3-8.</b> Fit all features (13 features) in the dataset to a multiple linear regression model, and report<br> \n",
    "\n",
    "> (1) p-values for each feature. \n",
    "\n",
    "<b> Answer the following questions:</b> \n",
    "\n",
    "- What does p-value means\n",
    "- What are the important features? <br> \n"
   ]
  },
  {
   "cell_type": "code",
   "execution_count": 27,
   "metadata": {},
   "outputs": [
    {
     "name": "stdout",
     "output_type": "stream",
     "text": [
      "==============================================================================\n",
      "                 coef    std err          t      P>|t|      [0.025      0.975]\n",
      "------------------------------------------------------------------------------\n",
      "Intercept     36.4911      5.104      7.149      0.000      26.462      46.520\n",
      "CRIM          -0.1072      0.033     -3.276      0.001      -0.171      -0.043\n",
      "INDUS          0.0209      0.061      0.339      0.735      -0.100       0.142\n",
      "ZN             0.0464      0.014      3.380      0.001       0.019       0.073\n",
      "CHAS           2.6886      0.862      3.120      0.002       0.996       4.381\n",
      "NOX          -17.7958      3.821     -4.658      0.000     -25.302     -10.289\n",
      "RM             3.8048      0.418      9.102      0.000       2.983       4.626\n",
      "AGE            0.0008      0.013      0.057      0.955      -0.025       0.027\n",
      "DIS           -1.4758      0.199     -7.398      0.000      -1.868      -1.084\n",
      "RAD            0.3057      0.066      4.608      0.000       0.175       0.436\n",
      "TAX           -0.0123      0.004     -3.278      0.001      -0.020      -0.005\n",
      "PTRATIO       -0.9535      0.131     -7.287      0.000      -1.211      -0.696\n",
      "B              0.0094      0.003      3.500      0.001       0.004       0.015\n",
      "LSTAT         -0.5255      0.051    -10.366      0.000      -0.625      -0.426\n",
      "==============================================================================\n",
      "Intercept    3.182440e-12\n",
      "CRIM         1.126402e-03\n",
      "INDUS        7.345971e-01\n",
      "ZN           7.836070e-04\n",
      "CHAS         1.912339e-03\n",
      "NOX          4.117296e-06\n",
      "RM           2.207486e-18\n",
      "AGE          9.546859e-01\n",
      "DIS          6.017651e-13\n",
      "RAD          5.189664e-06\n",
      "TAX          1.117826e-03\n",
      "PTRATIO      1.268218e-12\n",
      "B            5.072875e-04\n",
      "LSTAT        6.595808e-23\n",
      "dtype: float64\n"
     ]
    }
   ],
   "source": [
    "#code here\n",
    "import statsmodels.formula.api as smf\n",
    "#print(myDataFrame)\n",
    "model=smf.ols('TargetValues~CRIM+INDUS+ZN+CHAS+NOX+RM+AGE+DIS+RAD+TAX+PTRATIO+B+LSTAT',myDataFrame)\n",
    "result=model.fit()\n",
    "print(result.summary().tables[1])\n",
    "print(result.pvalues)\n",
    "\n",
    "# Low p value for a feature gives credence to the assumption that the particular is realted to the response and we \n",
    "# rule out null hypothesis for that feature.\n",
    "# lowest 4 p values are those of RM  DIS  PTRATIO and LSTAT- so these 4 are important features\n"
   ]
  },
  {
   "cell_type": "markdown",
   "metadata": {},
   "source": [
    "==========================================================================+============================================== <br> ========================================================================================================================="
   ]
  },
  {
   "cell_type": "markdown",
   "metadata": {},
   "source": [
    "<b>Problem #4.</b>  Encoding categorical values\n",
    "\n",
    "Given a dataset (encoding.csv) with three features and twenty samples with the following types:\n",
    "\n",
    "- \"Gender\" is nominal feature in which order is not important (mapping can be used)\n",
    "- \"Race\" is nominal feature (all values have the same weight). label encoding and one-hot encoding can be used together.\n",
    "- \"Satisfaction\" is nominal feature in which order is important (label encoding can be used)\n",
    "\n",
    "Use appropriate encoding method for each feature to convert the categorical values into a meaningful numerical values."
   ]
  },
  {
   "cell_type": "code",
   "execution_count": 44,
   "metadata": {},
   "outputs": [
    {
     "name": "stdout",
     "output_type": "stream",
     "text": [
      "    Gender Race  Satisfaction  Race_0  Race_1  Race_2  Race_3  Race_4\n",
      "0        1    4             0       0       0       0       0       1\n",
      "1        1    4             2       0       0       0       0       1\n",
      "2        1    4             0       0       0       0       0       1\n",
      "3        0    1             3       0       1       0       0       0\n",
      "4        1    1             2       0       1       0       0       0\n",
      "5        0    2             2       0       0       1       0       0\n",
      "6        1    2             0       0       0       1       0       0\n",
      "7        0    2             3       0       0       1       0       0\n",
      "8        0    4             3       0       0       0       0       1\n",
      "9        0    2             2       0       0       1       0       0\n",
      "10       1    3             1       0       0       0       1       0\n",
      "11       1    3             4       0       0       0       1       0\n",
      "12       1    3             4       0       0       0       1       0\n",
      "13       0    3             3       0       0       0       1       0\n",
      "14       1    3             1       0       0       0       1       0\n",
      "15       1    2             4       0       0       1       0       0\n",
      "16       1    0             4       1       0       0       0       0\n",
      "17       0    0             3       1       0       0       0       0\n",
      "18       1    0             1       1       0       0       0       0\n",
      "19       0    1             2       0       1       0       0       0\n"
     ]
    }
   ],
   "source": [
    "#code here\n",
    "from sklearn import preprocessing\n",
    "\n",
    "EncodingData =read_csv('encoding.csv')\n",
    "EncodingData['Gender'] = EncodingData.Gender.map({'Male':1 , 'Female':0})\n",
    "\n",
    "le = preprocessing.LabelEncoder()\n",
    "le.fit([\"White_not_Hispanic\", \"Asian_&_Pacific_Islander\", \"Hispanic\", \"Black_not_Hispanic\",\"American_Indian_&_Alaska_Native\"])\n",
    "EncodingData['Race']=le.fit_transform(EncodingData.Race)\n",
    "EncodingData['Race'] = pd.Categorical(EncodingData['Race'])\n",
    "dfDummies = pd.get_dummies(EncodingData['Race'], prefix = 'Race')\n",
    "EncodingData = pd.concat([EncodingData, dfDummies], axis=1)\n",
    "\n",
    "\n",
    "EncodingData['Satisfaction'] = EncodingData.Satisfaction.map({'Very Happy':4 ,'Happy':3,'Neutral':2,'Unhappy':1,'Very Unhappy':0})\n",
    "\n",
    "\n",
    "\n",
    "list(le.classes_)\n",
    "print(EncodingData)\n"
   ]
  },
  {
   "cell_type": "markdown",
   "metadata": {},
   "source": [
    "### Submission\n",
    "Once you complete the assignment, <br>\n",
    "Name your file in the format of <b style='color:red'>LASTNAME-PITTID-Assignment1.ipynb</b>, and submit it on the courseweb"
   ]
  }
 ],
 "metadata": {
  "kernelspec": {
   "display_name": "Python 3",
   "language": "python",
   "name": "python3"
  },
  "language_info": {
   "codemirror_mode": {
    "name": "ipython",
    "version": 3
   },
   "file_extension": ".py",
   "mimetype": "text/x-python",
   "name": "python",
   "nbconvert_exporter": "python",
   "pygments_lexer": "ipython3",
   "version": "3.6.5"
  }
 },
 "nbformat": 4,
 "nbformat_minor": 2
}
