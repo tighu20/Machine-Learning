{
 "cells": [
  {
   "cell_type": "markdown",
   "metadata": {},
   "source": [
    "# Logistic Regression & Cross Validation\n",
    "\n",
    "In this exercise, you will use logistic regression to classify breast cancer as either malignant or benign. First run the code below to print and read the description of the data set. "
   ]
  },
  {
   "cell_type": "code",
   "execution_count": 1,
   "metadata": {},
   "outputs": [],
   "source": [
    "from sklearn.datasets import load_breast_cancer\n",
    "from sklearn.linear_model import LogisticRegression\n",
    "import numpy as np\n",
    "from sklearn.model_selection import train_test_split\n",
    "from sklearn import preprocessing\n",
    "\n",
    "DataCancer=load_breast_cancer()\n",
    "#print(DataCancer.keys())\n",
    "#print(DataCancer.DESCR)\n",
    "\n",
    "\n",
    "\n"
   ]
  },
  {
   "cell_type": "markdown",
   "metadata": {},
   "source": [
    "### A) Use logistic regression, with ridge regularization and tuning parameter set to 1. Find the accuracy of the model. Scale the features  to have zero mean and unit variance. \n",
    "- Use random_state = 0 in the train_test_split."
   ]
  },
  {
   "cell_type": "code",
   "execution_count": 3,
   "metadata": {},
   "outputs": [
    {
     "name": "stdout",
     "output_type": "stream",
     "text": [
      "the accuracy of the model is 0.958041958041958\n"
     ]
    }
   ],
   "source": [
    "X_features=DataCancer.data\n",
    "Y_targetClass=DataCancer.target\n",
    "X_train, X_test, Y_train, Y_test = train_test_split(X_features,Y_targetClass,random_state=0)\n",
    "scaler=preprocessing.StandardScaler().fit(X_train)\n",
    "X_train_transformed=scaler.transform(X_train) #apply scaling on training set\n",
    "X_test_transformed=scaler.transform(X_test) #apply scaling on test set\n",
    "LogRegModel= LogisticRegression(C=1).fit(X_train_transformed, Y_train)\n",
    "print(\"the accuracy of the model is\",LogRegModel.score(X_test_transformed,Y_test))\n"
   ]
  },
  {
   "cell_type": "markdown",
   "metadata": {},
   "source": [
    "### B) For the same problem, we also use logistic regression but want to select the best tuning parameter of Ridge regularization in logistic regression. We try the following set of values for the tuning parameter: [0.01, 0.1, 1, 10, 100], and use the five fold cross validation. Find the best tuning parameter in this set, and the test accuracy of the model when the best tuning parameter is selected. \n",
    "- Feature scaled as in part A"
   ]
  },
  {
   "cell_type": "code",
   "execution_count": 4,
   "metadata": {},
   "outputs": [
    {
     "name": "stdout",
     "output_type": "stream",
     "text": [
      "[0.95348837 0.97674419 0.95294118 0.98823529 0.98809524]\n",
      "[0.98837209 0.98837209 0.95294118 1.         0.98809524]\n",
      "[0.98837209 0.98837209 0.95294118 1.         0.97619048]\n",
      "[0.98837209 0.96511628 0.94117647 1.         0.98809524]\n",
      "[0.96511628 0.96511628 0.92941176 0.98823529 0.98809524]\n",
      "the accuracy of best selected  model is 0.965034965034965\n",
      "the best parameter is  0.1\n"
     ]
    }
   ],
   "source": [
    "from sklearn.model_selection import cross_val_score\n",
    "\n",
    "\n",
    "kfolds=5   # set number of folds=5\n",
    "bestscore=0 # set best score =0\n",
    "X_trainval, X_test, Y_trainval, Y_test= train_test_split(DataCancer.data, DataCancer.target, random_state=0)\n",
    "X_trainval_transformed=scaler.transform(X_trainval) #apply scaling on training set\n",
    "X_test_transformed=scaler.transform(X_test) #apply scaling on test set\n",
    "\n",
    "for x in [0.01, 0.1, 1, 10, 100]:\n",
    "    LogRegModel= LogisticRegression(C=x)   # fitting using training set\n",
    "    scores = cross_val_score(LogRegModel, X_trainval_transformed, Y_trainval, cv=kfolds)   #evalutaion using valition set\n",
    "    score=np.mean(scores)\n",
    "    print(scores)\n",
    "    \n",
    "    if score>bestscore:\n",
    "        \n",
    "        bestscore = score\n",
    "        bestparameter = x\n",
    "        \n",
    "BestLogRegModel=LogisticRegression(C=bestparameter).fit(X_trainval_transformed, Y_trainval)\n",
    "print(\"the accuracy of best selected  model is\",BestLogRegModel.score(X_test_transformed,Y_test))\n",
    "print(\"the best parameter is \",bestparameter)"
   ]
  },
  {
   "cell_type": "code",
   "execution_count": null,
   "metadata": {},
   "outputs": [],
   "source": []
  }
 ],
 "metadata": {
  "kernelspec": {
   "display_name": "Python 3",
   "language": "python",
   "name": "python3"
  },
  "language_info": {
   "codemirror_mode": {
    "name": "ipython",
    "version": 3
   },
   "file_extension": ".py",
   "mimetype": "text/x-python",
   "name": "python",
   "nbconvert_exporter": "python",
   "pygments_lexer": "ipython3",
   "version": "3.6.5"
  }
 },
 "nbformat": 4,
 "nbformat_minor": 2
}
