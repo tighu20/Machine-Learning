{
 "cells": [
  {
   "cell_type": "markdown",
   "metadata": {},
   "source": [
    "# Exercise 2\n",
    "\n",
    "## Part I: KNN Classifier\n",
    "\n",
    "In this exercise we implement the KNN for classification of the Iris dataset\n",
    "\n",
    "First, understand the dataset and its contents by finding the keys and reading the description of the dataset by running the code block below "
   ]
  },
  {
   "cell_type": "code",
   "execution_count": 3,
   "metadata": {},
   "outputs": [
    {
     "name": "stdout",
     "output_type": "stream",
     "text": [
      "Keys of the iris_dataset is: dict_keys(['data', 'target', 'target_names', 'DESCR', 'feature_names'])\n"
     ]
    }
   ],
   "source": [
    "from sklearn.datasets import load_iris\n",
    "iris_dataset=load_iris() #creates an object that contains the iris dataset\n",
    "print('Keys of the iris_dataset is:', iris_dataset.keys())"
   ]
  },
  {
   "cell_type": "code",
   "execution_count": 4,
   "metadata": {},
   "outputs": [
    {
     "name": "stdout",
     "output_type": "stream",
     "text": [
      "Iris Plants Database\n",
      "====================\n",
      "\n",
      "Notes\n",
      "-----\n",
      "Data Set Characteristics:\n",
      "    :Number of Instances: 150 (50 in each of three classes)\n",
      "    :Number of Attributes: 4 numeric, predictive attributes and the class\n",
      "    :Attribute Information:\n",
      "        - sepal length in cm\n",
      "        - sepal width in cm\n",
      "        - petal length in cm\n",
      "        - petal width in cm\n",
      "        - class:\n",
      "                - Iris-Setosa\n",
      "                - Iris-Versicolour\n",
      "                - Iris-Virginica\n",
      "    :Summary Statistics:\n",
      "\n",
      "    ============== ==== ==== ======= ===== ====================\n",
      "                    Min  Max   Mean    SD   Class Correlation\n",
      "    ============== ==== ==== ======= ===== ====================\n",
      "    sepal length:   4.3  7.9   5.84   0.83    0.7826\n",
      "    sepal width:    2.0  4.4   3.05   0.43   -0.4194\n",
      "    petal length:   1.0  6.9   3.76   1.76    0.9490  (high!)\n",
      "    petal width:    0.1  2.5   1.20  0.76     0.9565  (high!)\n",
      "    ============== ==== ==== ======= ===== ====================\n",
      "\n",
      "    :Missing Attribute Values: None\n",
      "    :Class Distribution: 33.3% for each of 3 classes.\n",
      "    :Creator: R.A. Fisher\n",
      "    :Donor: Michael Marshall (MARSHALL%PLU@io.arc.nasa.gov)\n",
      "    :Date: July, 1988\n",
      "\n",
      "This is a copy of UCI ML iris datasets.\n",
      "http://archive.ics.uci.edu/ml/datasets/Iris\n",
      "\n",
      "The famous Iris database, first used by Sir R.A Fisher\n",
      "\n",
      "This is perhaps the best known database to be found in the\n",
      "pattern recognition literature.  Fisher's paper is a classic in the field and\n",
      "is referenced frequently to this day.  (See Duda & Hart, for example.)  The\n",
      "data set contains 3 classes of 50 instances each, where each class refers to a\n",
      "type of iris plant.  One class is linearly separable from the other 2; the\n",
      "latter are NOT linearly separable from each other.\n",
      "\n",
      "References\n",
      "----------\n",
      "   - Fisher,R.A. \"The use of multiple measurements in taxonomic problems\"\n",
      "     Annual Eugenics, 7, Part II, 179-188 (1936); also in \"Contributions to\n",
      "     Mathematical Statistics\" (John Wiley, NY, 1950).\n",
      "   - Duda,R.O., & Hart,P.E. (1973) Pattern Classification and Scene Analysis.\n",
      "     (Q327.D83) John Wiley & Sons.  ISBN 0-471-22361-1.  See page 218.\n",
      "   - Dasarathy, B.V. (1980) \"Nosing Around the Neighborhood: A New System\n",
      "     Structure and Classification Rule for Recognition in Partially Exposed\n",
      "     Environments\".  IEEE Transactions on Pattern Analysis and Machine\n",
      "     Intelligence, Vol. PAMI-2, No. 1, 67-71.\n",
      "   - Gates, G.W. (1972) \"The Reduced Nearest Neighbor Rule\".  IEEE Transactions\n",
      "     on Information Theory, May 1972, 431-433.\n",
      "   - See also: 1988 MLC Proceedings, 54-64.  Cheeseman et al\"s AUTOCLASS II\n",
      "     conceptual clustering system finds 3 classes in the data.\n",
      "   - Many, many more ...\n",
      "\n"
     ]
    }
   ],
   "source": [
    "print(iris_dataset.DESCR)"
   ]
  },
  {
   "cell_type": "markdown",
   "metadata": {},
   "source": [
    "A) Classify the Iris species with KNN approach using the first two feature only (X_train[:, : 2], X_test[:, : 2]), and check the accuracy as K changes. Let K takes the values [1, 5, 10, 15]. No need to scale features.\n",
    "In the code, use random_state=100 in train_test_split as below.\n",
    "\n",
    "Plot the accuracy and comment on your result"
   ]
  },
  {
   "cell_type": "code",
   "execution_count": 6,
   "metadata": {},
   "outputs": [
    {
     "name": "stdout",
     "output_type": "stream",
     "text": [
      "Accuracy for different values of k [73.68421052631578, 84.21052631578947, 84.21052631578947, 76.31578947368422, 28.947368421052634]\n"
     ]
    },
    {
     "data": {
      "text/plain": [
       "Text(0,0.5,'Accuracy of the Model (%)')"
      ]
     },
     "execution_count": 6,
     "metadata": {},
     "output_type": "execute_result"
    },
    {
     "data": {
      "image/png": "[encoded data removed]",
      "text/plain": [
       "<Figure size 432x288 with 1 Axes>"
      ]
     },
     "metadata": {},
     "output_type": "display_data"
    }
   ],
   "source": [
    "%matplotlib inline\n",
    "import matplotlib.pyplot as plt\n",
    "import pandas as pd\n",
    "from sklearn.neighbors import KNeighborsClassifier \n",
    "import numpy as np\n",
    "from sklearn.model_selection import train_test_split\n",
    "from sklearn import preprocessing\n",
    "\n",
    "test_accuracy=[] \n",
    "X_train, X_test, Y_train, Y_test = train_test_split(iris_dataset['data'],iris_dataset['target'],random_state=100)\n",
    "\n",
    "for k in [1,5,10,15,100]:           # Loop for iterating over different values of K\n",
    "    knn=KNeighborsClassifier(n_neighbors=k)  \n",
    "    knn.fit(X_train[:,[0,1]],Y_train)\n",
    "    test_accuracy.append((knn.score(X_test[:,[0,1]],Y_test))*100)\n",
    "    \n",
    "print(\"Accuracy for different values of k\", test_accuracy)\n",
    "\n",
    "X=[1,5,10,15,100]                 \n",
    "Y=test_accuracy\n",
    "plt.plot(X,Y,marker='o')\n",
    "plt.xlabel('Value of K')\n",
    "plt.ylabel('Accuracy of the Model (%)')\n",
    "    \n",
    "\n",
    "# When K varies between (1,5,10,15) the accuracy is least in the case of K=1 as one can expept from a OVERFIT model \n",
    "# with high VARIANCE.The optimal accuracy(84%) is obtained when K is either 5 or 10 after which it starts dropping again.\n",
    "# K=100 results in an UNDERFIT model with high BIAS and an abysmal accuracy of close to 30.\n"
   ]
  },
  {
   "cell_type": "markdown",
   "metadata": {},
   "source": [
    "B) Use the Iris example, and find the accuracy of the KNN approach with K=5 when different number of features is used without scaling. \n",
    "Hint: To use N_features only from training data use: X_train[:, : N_features ]\n",
    "Write down the accuracy when using one, two, three, and the four features\n"
   ]
  },
  {
   "cell_type": "code",
   "execution_count": 8,
   "metadata": {},
   "outputs": [
    {
     "name": "stdout",
     "output_type": "stream",
     "text": [
      "The accuracy for  K=5 with different number of faetures is [78.94736842105263, 84.21052631578947, 92.10526315789474, 97.36842105263158]\n"
     ]
    }
   ],
   "source": [
    "\n",
    "accuracy_differentK=[] \n",
    "for N in [1,2,3,4]:          # Iterating over different models when using different number of features\n",
    "    knn=KNeighborsClassifier(n_neighbors=5)\n",
    "    knn.fit(X_train[:,: N],Y_train)\n",
    "    accuracy_differentK.append((knn.score(X_test[:,: N],Y_test))*100)\n",
    "    \n",
    "print(\"The accuracy for  K=5 with different number of features\",accuracy_differentK)"
   ]
  },
  {
   "cell_type": "markdown",
   "metadata": {},
   "source": [
    "C) Repeat B when feature scaling with MinMaxScaler is used"
   ]
  },
  {
   "cell_type": "code",
   "execution_count": 10,
   "metadata": {},
   "outputs": [
    {
     "name": "stdout",
     "output_type": "stream",
     "text": [
      "The accuracy for  K=5 with different number of features with Scaler is [78.94736842105263, 84.21052631578947, 97.36842105263158, 97.36842105263158]\n"
     ]
    }
   ],
   "source": [
    "accuracy_differentKScaler=[]\n",
    "scaler=preprocessing.MinMaxScaler().fit(X_train) \n",
    "X_train_transformed=scaler.transform(X_train) \n",
    "X_test_transformed=scaler.transform(X_test) \n",
    "\n",
    "for N in [1,2,3,4]: \n",
    "        knn=KNeighborsClassifier(n_neighbors=5)\n",
    "        knn.fit(X_train_transformed[:,: N],Y_train)\n",
    "        accuracy_differentKScaler.append((knn.score(X_test_transformed[:,: N],Y_test))*100)\n",
    "        \n",
    "print( \"The accuracy for  K=5 with different number of features with Scaler is\", accuracy_differentKScaler)\n",
    "\n"
   ]
  },
  {
   "cell_type": "markdown",
   "metadata": {},
   "source": [
    "## Part 2: Linear Regression\n",
    "\n",
    "2-A) With the advertising dataset, use the statsmodels module in python to find the P-value of the TV feature and its associated confidence interval. Does the confidence interval include the value of Zero? What does that imply. Comment on the association between the TV and sales."
   ]
  },
  {
   "cell_type": "code",
   "execution_count": 3,
   "metadata": {},
   "outputs": [
    {
     "name": "stdout",
     "output_type": "stream",
     "text": [
      "==============================================================================\n",
      "                 coef    std err          t      P>|t|      [0.025      0.975]\n",
      "------------------------------------------------------------------------------\n",
      "Intercept      7.0326      0.458     15.360      0.000       6.130       7.935\n",
      "TV             0.0475      0.003     17.668      0.000       0.042       0.053\n",
      "==============================================================================\n",
      "p-values are: \n",
      " Intercept    1.406300e-35\n",
      "TV           1.467390e-42\n",
      "dtype: float64\n"
     ]
    }
   ],
   "source": [
    "from pandas import read_csv\n",
    "import statsmodels.formula.api as smf\n",
    "AdvertisingData=read_csv('Advertising.csv')\n",
    "\n",
    "ML_model=smf.ols('Sales ~ TV', AdvertisingData)\n",
    "Fitting_results=ML_model.fit()\n",
    "\n",
    "print(Fitting_results.summary().tables[1])\n",
    "print('p-values are: \\n', Fitting_results.pvalues)\n",
    "\n",
    "\n",
    "# The confidence interval ranges from (0.042 - 0.053) as seen from the table below and it doesnt include 'zero' which \n",
    "# implies that we can say with a lots of certainity that there is realtion between the Sales and TV advertisement.The\n",
    "# p values are very low, so we can safely assume that NULL HYPOTHESIS is FALSE(when there is no relation between TV \n",
    "# budget and sales)"
   ]
  },
  {
   "cell_type": "markdown",
   "metadata": {},
   "source": [
    "2-B) Using the Scikit-Learn library, fit a linear regression model using advertising trianing set, then find the mean square error of the fitted model using test data. Use random_state= 0 in the train_test_split function."
   ]
  },
  {
   "cell_type": "code",
   "execution_count": 11,
   "metadata": {},
   "outputs": [
    {
     "name": "stdout",
     "output_type": "stream",
     "text": [
      "The coefficients of estimated model for Radio TV and Newspaper are respectively  [0.19900368 0.04416235 0.00116268]\n",
      "Mean Square Error of the fitted model is 4.012497522917106\n"
     ]
    }
   ],
   "source": [
    "%matplotlib inline\n",
    "import matplotlib.pyplot as plt\n",
    "import numpy as np\n",
    "from sklearn.model_selection import train_test_split\n",
    "from sklearn.linear_model import LinearRegression\n",
    "from sklearn.metrics import mean_squared_error\n",
    "\n",
    "AdvertisingData=read_csv('Advertising.csv')\n",
    "X = AdvertisingData[['Radio', 'TV','Newspaper']].values\n",
    "Y = AdvertisingData.Sales\n",
    "X_train, X_test, Y_train, Y_test= train_test_split(X, Y, random_state= 0)\n",
    "\n",
    "linreg= LinearRegression().fit(X_train, Y_train)\n",
    "print(\"The coefficients of estimated model for Radio TV and Newspaper are respectively \",linreg.coef_) \n",
    "\n",
    "\n",
    "Target_predicted= linreg.predict(X_test)\n",
    "MSE=mean_squared_error(Y_test,Target_predicted)\n",
    "print('Mean Square Error of the fitted model is',MSE)"
   ]
  },
  {
   "cell_type": "code",
   "execution_count": null,
   "metadata": {},
   "outputs": [],
   "source": []
  }
 ],
 "metadata": {
  "kernelspec": {
   "display_name": "Python 3",
   "language": "python",
   "name": "python3"
  },
  "language_info": {
   "codemirror_mode": {
    "name": "ipython",
    "version": 3
   },
   "file_extension": ".py",
   "mimetype": "text/x-python",
   "name": "python",
   "nbconvert_exporter": "python",
   "pygments_lexer": "ipython3",
   "version": "3.6.5"
  }
 },
 "nbformat": 4,
 "nbformat_minor": 2
}
