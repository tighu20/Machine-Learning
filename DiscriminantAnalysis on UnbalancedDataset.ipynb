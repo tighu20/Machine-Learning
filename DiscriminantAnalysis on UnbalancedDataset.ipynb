{
 "cells": [
  {
   "cell_type": "markdown",
   "metadata": {},
   "source": [
    "## Exercise: Discriminant Analysis and Unbalanced Datasets\n",
    "\n",
    "\n",
    "In this exercise, we will use the handwritten digits data set of Scikit-learn (load_digits). Run the code below. Read the description of the data set and check a sample image. \n"
   ]
  },
  {
   "cell_type": "code",
   "execution_count": 9,
   "metadata": {},
   "outputs": [
    {
     "name": "stdout",
     "output_type": "stream",
     "text": [
      "dict_keys(['data', 'target', 'target_names', 'images', 'DESCR'])\n",
      "[ 0.  0.  0. 12. 13.  5.  0.  0.  0.  0.  0. 11. 16.  9.  0.  0.  0.  0.\n",
      "  3. 15. 16.  6.  0.  0.  0.  7. 15. 16. 16.  2.  0.  0.  0.  0.  1. 16.\n",
      " 16.  3.  0.  0.  0.  0.  1. 16. 16.  6.  0.  0.  0.  0.  1. 16. 16.  6.\n",
      "  0.  0.  0.  0.  0. 11. 16. 10.  0.  0.]\n"
     ]
    },
    {
     "data": {
      "text/plain": [
       "<Figure size 432x288 with 0 Axes>"
      ]
     },
     "metadata": {},
     "output_type": "display_data"
    },
    {
     "data": {
      "image/png": "[encoded data removed]",
      "text/plain": [
       "<Figure size 288x288 with 1 Axes>"
      ]
     },
     "metadata": {},
     "output_type": "display_data"
    },
    {
     "data": {
      "text/plain": [
       "numpy.ndarray"
      ]
     },
     "execution_count": 9,
     "metadata": {},
     "output_type": "execute_result"
    }
   ],
   "source": [
    "%matplotlib inline\n",
    "import matplotlib.pyplot as plt\n",
    "from sklearn.datasets import load_digits\n",
    "import matplotlib.pyplot as plt \n",
    "from sklearn.discriminant_analysis import LinearDiscriminantAnalysis\n",
    "from sklearn.discriminant_analysis import QuadraticDiscriminantAnalysis\n",
    "from sklearn.model_selection import train_test_split\n",
    "from sklearn.metrics import confusion_matrix, precision_score, recall_score\n",
    "from sklearn.model_selection import cross_val_score\n",
    "import numpy as np\n",
    "\n",
    "\n",
    "DigitsData=load_digits()\n",
    "print(DigitsData.keys()) \n",
    "#print(DigitsData.DESCR) #read description of the dataset\n",
    "#print(DigitsData.data[1])\n",
    "\n",
    "#plot one of the images in the data\n",
    "plt.gray() \n",
    "plt.matshow(DigitsData.images[5]) \n",
    "plt.show() \n",
    "\n"
   ]
  },
  {
   "cell_type": "markdown",
   "metadata": {},
   "source": [
    "#### A) Our objective is to build classfiers that identify digit 9. For this purpose, answer the following (3pts):\n",
    "\n",
    "1) Define the target value to be equal to 1 (or True) only for digit 9, and 0 (or False) otherwise.\n",
    "You can define: y= (DigitsData.target == 9)\n",
    "\n",
    "\n",
    "- Find how many times y is equal to 9 and how many times it is not equal to 9\n",
    "\n",
    "You can use: print(sum(y==True)); print(sum(y==False))\n",
    "\n",
    "\n",
    "COMMENT: what do you observe? Is the dataset for this classification problem balanced or not?"
   ]
  },
  {
   "cell_type": "code",
   "execution_count": 30,
   "metadata": {},
   "outputs": [
    {
     "name": "stdout",
     "output_type": "stream",
     "text": [
      "180\n",
      "1617\n"
     ]
    }
   ],
   "source": [
    "# write your code here\n",
    "y= (DigitsData.target == 9)\n",
    "print(sum(y==True))\n",
    "print(sum(y==False))\n",
    "\n",
    "#The dataset is not balanced as there are significantly more number of false target values as compared to true values."
   ]
  },
  {
   "cell_type": "markdown",
   "metadata": {},
   "source": [
    "#### B) Find the accuracy of a dummy classifier (imported below) that always selects the majority class. Use the DigitsData.data as features and y (defined above) as the response. (3pts)\n",
    "\n",
    "     - Use train_test_split with random_state= 0 for splitting the data\n",
    "     - Select dummy classifier with \"most frequent\" strategy as follows: \n",
    "         - dummy_majority=DummyClassifier(strategy='most_frequent')\n"
   ]
  },
  {
   "cell_type": "code",
   "execution_count": 31,
   "metadata": {},
   "outputs": [
    {
     "data": {
      "text/plain": [
       "0.8955555555555555"
      ]
     },
     "execution_count": 31,
     "metadata": {},
     "output_type": "execute_result"
    }
   ],
   "source": [
    "# write your code here\n",
    "from sklearn.dummy import DummyClassifier\n",
    "X=DigitsData.data\n",
    "Y= (DigitsData.target == 9)\n",
    "dummy_majority=DummyClassifier(strategy='most_frequent')\n",
    "X_train, X_test, Y_train, Y_test = train_test_split(X,Y,random_state=0)\n",
    "dummy_majority.fit(X_train, Y_train)\n",
    "dummy_majority.score(X_test,Y_test)"
   ]
  },
  {
   "cell_type": "markdown",
   "metadata": {},
   "source": [
    "#### C) Instead of a dummy classifier, use an LDA classifer (with default threshold) to solve the above classification problem. Find accuracy, confusion matrix, precision, and recall. (5pts)\n",
    "\n",
    "- Note: you may get a warning that features are correlated (collinear). However, we can still get the performance metrics as usual"
   ]
  },
  {
   "cell_type": "code",
   "execution_count": 42,
   "metadata": {},
   "outputs": [
    {
     "name": "stdout",
     "output_type": "stream",
     "text": [
      "The accuracy 0.9644444444444444\n",
      "The confusion Matrix is : \n",
      "[[394   9]\n",
      " [  7  40]]\n",
      "Precision Score 0.8163265306122449\n",
      "Recall score 0.851063829787234\n"
     ]
    },
    {
     "name": "stderr",
     "output_type": "stream",
     "text": [
      "C:\\Users\\Tigmanshu\\Anaconda3\\lib\\site-packages\\sklearn\\discriminant_analysis.py:388: UserWarning: Variables are collinear.\n",
      "  warnings.warn(\"Variables are collinear.\")\n"
     ]
    }
   ],
   "source": [
    "X=DigitsData.data\n",
    "Y=(DigitsData.target == 9)\n",
    "X_train, X_test, Y_train, Y_test = train_test_split(X,Y,random_state=0)\n",
    "LDAmodelFitted= LinearDiscriminantAnalysis().fit(X_train, Y_train)\n",
    "Target_predicted= LDAmodelFitted.predict(X_test)\n",
    "\n",
    "print(\"The accuracy\",LDAmodelFitted.score(X_test,Y_test))\n",
    "print(\"The confusion Matrix is : \")\n",
    "print(confusion_matrix(Y_test,Target_predicted))\n",
    "\n",
    "print(\"Precision Score\",precision_score(Y_test,Target_predicted))\n",
    "print(\"Recall score\",recall_score(Y_test,Target_predicted))"
   ]
  },
  {
   "cell_type": "markdown",
   "metadata": {},
   "source": [
    "#### D) Use QDA classifer to perform the classification. Find accuracy, confusion matrix, precision, and recall. (5pts)\n",
    "- Note: expect to see a warning that features are correlated (collinear). You can still get performance metrics."
   ]
  },
  {
   "cell_type": "code",
   "execution_count": 43,
   "metadata": {},
   "outputs": [
    {
     "name": "stdout",
     "output_type": "stream",
     "text": [
      "The accuracy 0.6622222222222223\n",
      "The confusion Matrix is : \n",
      "[[252 151]\n",
      " [  1  46]]\n",
      "Precision Score 0.233502538071066\n",
      "Recall score 0.9787234042553191\n"
     ]
    },
    {
     "name": "stderr",
     "output_type": "stream",
     "text": [
      "C:\\Users\\Tigmanshu\\Anaconda3\\lib\\site-packages\\sklearn\\discriminant_analysis.py:682: UserWarning: Variables are collinear\n",
      "  warnings.warn(\"Variables are collinear\")\n"
     ]
    }
   ],
   "source": [
    "# write your code here\n",
    "X=DigitsData.data\n",
    "Y=(DigitsData.target == 9)\n",
    "X_train, X_test, Y_train, Y_test = train_test_split(X,Y,random_state=0)\n",
    "QDAmodelFitted= QuadraticDiscriminantAnalysis().fit(X_train, Y_train)\n",
    "Target_predicted= QDAmodelFitted.predict(X_test)\n",
    "\n",
    "print(\"The accuracy\",QDAmodelFitted.score(X_test,Y_test))\n",
    "print(\"The confusion Matrix is : \")\n",
    "print(confusion_matrix(Y_test,Target_predicted))\n",
    "\n",
    "print(\"Precision Score\",precision_score(Y_test,Target_predicted))\n",
    "print(\"Recall score\",recall_score(Y_test,Target_predicted))"
   ]
  },
  {
   "cell_type": "markdown",
   "metadata": {},
   "source": [
    "#### E) From the prediction of the QDA, plot the ROC curve. (4pts)"
   ]
  },
  {
   "cell_type": "code",
   "execution_count": 48,
   "metadata": {},
   "outputs": [
    {
     "data": {
      "text/plain": [
       "Text(0,0.5,'TruePositive')"
      ]
     },
     "execution_count": 48,
     "metadata": {},
     "output_type": "execute_result"
    },
    {
     "data": {
      "image/png": "[encoded data removed]",
      "text/plain": [
       "<Figure size 432x288 with 1 Axes>"
      ]
     },
     "metadata": {},
     "output_type": "display_data"
    }
   ],
   "source": [
    "from sklearn.metrics import roc_curve\n",
    "FalsePositive, TruePositive, thresholds = roc_curve(Y_test, QDAmodelFitted.predict_proba(X_test)[:, 1])\n",
    "plt.plot(FalsePositive, TruePositive)\n",
    "plt.xlabel('FalsePositive')\n",
    "plt.ylabel('TruePositive')"
   ]
  },
  {
   "cell_type": "code",
   "execution_count": null,
   "metadata": {},
   "outputs": [],
   "source": []
  }
 ],
 "metadata": {
  "kernelspec": {
   "display_name": "Python 3",
   "language": "python",
   "name": "python3"
  },
  "language_info": {
   "codemirror_mode": {
    "name": "ipython",
    "version": 3
   },
   "file_extension": ".py",
   "mimetype": "text/x-python",
   "name": "python",
   "nbconvert_exporter": "python",
   "pygments_lexer": "ipython3",
   "version": "3.6.5"
  }
 },
 "nbformat": 4,
 "nbformat_minor": 2
}
