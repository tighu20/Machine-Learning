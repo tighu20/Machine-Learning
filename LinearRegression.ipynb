{
 "cells": [
  {
   "cell_type": "markdown",
   "metadata": {},
   "source": [
    "# Linear Regression\n",
    "\n",
    "## Qualitative Features & Interaction Terms\n",
    "\n",
    "### A) Use the credit data set, fit OLS linear regressio model using all the following features\n",
    "\n",
    " - Student\n",
    " - Income\n",
    " - Limit\n",
    " - Interaction term: Income*Student\n",
    " - Interaction term: Limit*Student\n",
    "\n",
    "Find the p-values of all features. Are they all helpful in predicting the response? \n"
   ]
  },
  {
   "cell_type": "code",
   "execution_count": 6,
   "metadata": {},
   "outputs": [
    {
     "name": "stdout",
     "output_type": "stream",
     "text": [
      "=========================================================================================\n",
      "                            coef    std err          t      P>|t|      [0.025      0.975]\n",
      "-----------------------------------------------------------------------------------------\n",
      "Intercept              -415.3863     12.436    -33.401      0.000    -439.836    -390.936\n",
      "Student[T.Yes]          235.2261     41.256      5.702      0.000     154.117     316.336\n",
      "Income                   -7.6162      0.252    -30.272      0.000      -8.111      -7.122\n",
      "Income:Student[T.Yes]    -2.5835      0.702     -3.678      0.000      -3.965      -1.202\n",
      "Limit                     0.2613      0.004     69.090      0.000       0.254       0.269\n",
      "Limit:Student[T.Yes]      0.0667      0.012      5.515      0.000       0.043       0.090\n",
      "=========================================================================================\n",
      "Intercept                5.549684e-117\n",
      "Student[T.Yes]            2.330768e-08\n",
      "Income                   7.366425e-105\n",
      "Income:Student[T.Yes]     2.680862e-04\n",
      "Limit                    2.626683e-222\n",
      "Limit:Student[T.Yes]      6.320226e-08\n",
      "dtype: float64\n"
     ]
    }
   ],
   "source": [
    "import statsmodels.formula.api as smf\n",
    "from pandas import read_csv\n",
    "\n",
    "CreditData =read_csv('Credit2.csv')\n",
    "model=smf.ols('Balance~Student+Income+Limit+Income*Student+Limit*Student',CreditData)\n",
    "result=model.fit()\n",
    "print(result.summary().tables[1])\n",
    "print(result.pvalues)\n",
    "\n",
    "\n",
    "# All of the p values are low which means all of these features have a relationship with response. So all of them are\n",
    "# helpful in predicting the response.\n"
   ]
  },
  {
   "cell_type": "markdown",
   "metadata": {},
   "source": [
    "### B) Find the test $R^2$ score for estimating the balance from features (Income, Limit, StudentEncode) using linear regression model. The StudentEncode is the binary feature that maps Student (yes to 1 and No to 0)\n",
    "- Hint:You can use credit.Student.map({'No':0 , 'Yes':1}) to create StudentEncode \n"
   ]
  },
  {
   "cell_type": "code",
   "execution_count": 9,
   "metadata": {},
   "outputs": [
    {
     "name": "stdout",
     "output_type": "stream",
     "text": [
      "The R2 score is 0.9492691755287225\n"
     ]
    }
   ],
   "source": [
    "import pandas as pd\n",
    "import numpy as np\n",
    "from sklearn.model_selection import train_test_split\n",
    "from sklearn.linear_model import LinearRegression\n",
    "from sklearn.metrics import  r2_score\n",
    "\n",
    "CreditData['StudentEncode']=CreditData.Student.map({'No':1, 'Yes':0})\n",
    "X = CreditData[['Income', 'Limit','StudentEncode']].values\n",
    "Y = CreditData.Balance\n",
    "X_train, X_test, Y_train, Y_test = train_test_split(X,Y,random_state=0)\n",
    "linreg=LinearRegression().fit(X_train,Y_train)\n",
    "Target_predicted= linreg.predict(X_test)\n",
    "print(\"The R2 score is\",r2_score(Y_test,Target_predicted))\n"
   ]
  },
  {
   "cell_type": "markdown",
   "metadata": {},
   "source": [
    "### C) Repeat the above question after adding to the model two interaction terms: Income * StudentEncode and Limit * StudentEncode\n",
    "\n",
    "    you can use:\n",
    "        credit['InteractionTerm1']=credit.Income*credit.StudentEncode\n",
    "        credit['InteractionTerm2']=credit.Limit*credit.StudentEncode"
   ]
  },
  {
   "cell_type": "code",
   "execution_count": 10,
   "metadata": {},
   "outputs": [
    {
     "name": "stdout",
     "output_type": "stream",
     "text": [
      "The R2 score is 0.9525853236314727\n"
     ]
    }
   ],
   "source": [
    "CreditData['InteractionTerm1']=CreditData.Income*CreditData.StudentEncode   # Creating the two interaction terms\n",
    "CreditData['InteractionTerm2']=CreditData.Limit*CreditData.StudentEncode\n",
    "X = CreditData[['Income', 'Limit','StudentEncode','InteractionTerm1','InteractionTerm2']].values\n",
    "Y = CreditData.Balance\n",
    "X_train, X_test, Y_train, Y_test = train_test_split(X,Y,random_state=0)\n",
    "linreg=LinearRegression().fit(X_train,Y_train)\n",
    "Target_predicted= linreg.predict(X_test)\n",
    "print(\"The R2 score is\",r2_score(Y_test,Target_predicted))"
   ]
  },
  {
   "cell_type": "code",
   "execution_count": null,
   "metadata": {},
   "outputs": [],
   "source": []
  }
 ],
 "metadata": {
  "kernelspec": {
   "display_name": "Python 3",
   "language": "python",
   "name": "python3"
  },
  "language_info": {
   "codemirror_mode": {
    "name": "ipython",
    "version": 3
   },
   "file_extension": ".py",
   "mimetype": "text/x-python",
   "name": "python",
   "nbconvert_exporter": "python",
   "pygments_lexer": "ipython3",
   "version": "3.6.5"
  }
 },
 "nbformat": 4,
 "nbformat_minor": 2
}
