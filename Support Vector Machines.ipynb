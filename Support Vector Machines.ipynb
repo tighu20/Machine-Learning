{
 "cells": [
  {
   "cell_type": "markdown",
   "metadata": {},
   "source": [
    "## SVM \n",
    "\n",
    "In this part, we will apply SVM for classification of breast cancer using the Wisconsin's data set. Read the description of the dataset, then answer the following questions. Whenever needed to split the data, use random_state=0 in train_test_split\n",
    "\n",
    "#### 1) Find the accuracy of SVM classifier with parameter C=0.1, and  radial basis function kernel (rbf) of parameter Gamma =0.2. (5 pt)\n"
   ]
  },
  {
   "cell_type": "code",
   "execution_count": 3,
   "metadata": {},
   "outputs": [
    {
     "data": {
      "text/plain": [
       "dict_keys(['data', 'target', 'target_names', 'DESCR', 'feature_names'])"
      ]
     },
     "execution_count": 3,
     "metadata": {},
     "output_type": "execute_result"
    }
   ],
   "source": [
    "from sklearn.svm import SVC\n",
    "from sklearn.datasets import load_breast_cancer\n",
    "#from sklearn.datasets import load_iris\n",
    "from sklearn.model_selection import train_test_split\n",
    "from sklearn.preprocessing import MinMaxScaler \n",
    "from sklearn.model_selection import cross_val_score\n",
    "import numpy as np\n",
    "\n",
    "CancerDataset=load_breast_cancer()\n",
    "CancerDataset.keys()\n",
    "#CancerDataset.feature_names\n"
   ]
  },
  {
   "cell_type": "code",
   "execution_count": 17,
   "metadata": {},
   "outputs": [
    {
     "name": "stdout",
     "output_type": "stream",
     "text": [
      "The accuracy of SVM model is  0.6293706293706294\n"
     ]
    }
   ],
   "source": [
    "\n",
    "X=CancerDataset.data\n",
    "Y=CancerDataset.target\n",
    "X_train, X_test, Y_train, Y_test = train_test_split(X,Y,random_state=0)\n",
    "svmModel=SVC(kernel='rbf', gamma=0.2, C=0.1).fit(X_train,Y_train)\n",
    "print(\"The accuracy of SVM model is \",svmModel.score(X_test,Y_test))\n"
   ]
  },
  {
   "cell_type": "markdown",
   "metadata": {},
   "source": [
    "#### 2) Repeat part (1) but scale the features with MinMaxScaler. Compare results of (1) and (2) and comment on the results. (5 pt)\n"
   ]
  },
  {
   "cell_type": "code",
   "execution_count": 16,
   "metadata": {},
   "outputs": [
    {
     "name": "stdout",
     "output_type": "stream",
     "text": [
      "The accuracy after scaling is 0.951048951048951\n"
     ]
    }
   ],
   "source": [
    "from sklearn import preprocessing\n",
    "scaler=preprocessing.MinMaxScaler().fit(X_train)\n",
    "X_train_transformed=scaler.transform(X_train) \n",
    "X_test_transformed=scaler.transform(X_test)\n",
    "svmModel=SVC(kernel='rbf', gamma=0.2, C=0.1).fit(X_train_transformed,Y_train)\n",
    "print(\"The accuracy after scaling is\",svmModel.score(X_test_transformed,Y_test))"
   ]
  },
  {
   "cell_type": "markdown",
   "metadata": {},
   "source": [
    "The Min max scaler has significantly increased the score for the SVM model, this is because all features have now been scaled between 0 and 1 some of which had many greatly varying ranges. "
   ]
  },
  {
   "cell_type": "markdown",
   "metadata": {},
   "source": [
    "#### 3) Using scaled features, find best SVM classifier. Try values of the regularization C=[0.1, 1, 5] and RBF parameter Gamma = [ 0.1, 1, 5]. Use 5-fold cross validation to find the best parameters (using all possible combinations of these values for C and gamma). (10 pt)"
   ]
  },
  {
   "cell_type": "code",
   "execution_count": 15,
   "metadata": {},
   "outputs": [
    {
     "name": "stdout",
     "output_type": "stream",
     "text": [
      "The accuracy for the best model is  0.972027972027972\n"
     ]
    }
   ],
   "source": [
    "kfolds=5\n",
    "bestscore=0\n",
    "\n",
    "for x in [0.1, 1, 5]:\n",
    "        for y in [0.1, 1, 5]:\n",
    "                              svmModel=SVC(kernel='rbf', gamma=x, C=y).fit(X_train_transformed,Y_train)   \n",
    "                              scores = cross_val_score(svmModel, X_train_transformed, Y_train, cv=kfolds)  \n",
    "                              score=np.mean(scores)\n",
    "                              \n",
    "                              if score> bestscore:\n",
    "                                    bestscore=score\n",
    "                                    bestx=x\n",
    "                                    besty=y\n",
    "                             \n",
    "#print(bestscore) \n",
    "\n",
    "bestsvmModel=SVC(kernel='rbf', gamma=bestx, C=besty).fit(X_train_transformed,Y_train)\n",
    "print(\"The accuracy for the best model is \",bestsvmModel.score(X_test_transformed,Y_test))"
   ]
  },
  {
   "cell_type": "code",
   "execution_count": null,
   "metadata": {},
   "outputs": [],
   "source": []
  }
 ],
 "metadata": {
  "kernelspec": {
   "display_name": "Python 3",
   "language": "python",
   "name": "python3"
  },
  "language_info": {
   "codemirror_mode": {
    "name": "ipython",
    "version": 3
   },
   "file_extension": ".py",
   "mimetype": "text/x-python",
   "name": "python",
   "nbconvert_exporter": "python",
   "pygments_lexer": "ipython3",
   "version": "3.6.5"
  }
 },
 "nbformat": 4,
 "nbformat_minor": 2
}
