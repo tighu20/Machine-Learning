{
 "cells": [
  {
   "cell_type": "markdown",
   "metadata": {},
   "source": [
    "# Exercise 1\n",
    "A)\n",
    "\n",
    "1. Create a dictionary of score of each team. That is keys:values are\n",
    "Team1: 4,\n",
    "Team2: 3,\n",
    "Team3: 5,\n",
    "Team4: 2\n",
    "\n",
    "2. Add to the dictionary ‘Team5’ who has a score ‘5’ \n",
    "\n",
    "3. PRINT all the keys of the dictionary using the keys() method\n",
    "\n",
    "4. Find the length VALUES in the dictionary and print it\n",
    "\n",
    "5. Get the average score of the teams and print it (use the sum and len functions)\n"
   ]
  },
  {
   "cell_type": "code",
   "execution_count": 11,
   "metadata": {},
   "outputs": [
    {
     "name": "stdout",
     "output_type": "stream",
     "text": [
      "All the keys in the dictionary are: \n",
      " dict_keys(['Team 1', 'Team2', 'Team 3 ', 'Team 4', 'Team5'])\n",
      "The total number of values in dictionary are: \n",
      " 5\n",
      "The average score of all the teams is: \n",
      " 3.8\n"
     ]
    }
   ],
   "source": [
    "Score ={'Team 1': 4, 'Team2' : 3 , 'Team 3 ' : 5 , 'Team 4': 2}\n",
    "Score['Team5' ]= 5\n",
    "print (\"All the keys in the dictionary are: \\n\",Score.keys() )\n",
    "print (\"The total number of values in dictionary are: \\n\",len (Score.values() ))\n",
    "x =  sum( Score.values())/len (Score.values())                                     #Using the inbuild len and sum functions \n",
    "print (\"The average score of all the teams is: \\n\",x)"
   ]
  },
  {
   "cell_type": "markdown",
   "metadata": {},
   "source": [
    "B) \n",
    "1. Generate a numpy array with 2 columns, where first column contains numbers from 0 to 5 and second column is [0, 1, 4, 9, 16, 25]\n",
    "\n",
    "2. Check the shape of your array. It should be 6x2.\n",
    "\n",
    "3. Put the array into a data frame, with column labels ‘x’ and ‘y’ \n",
    "\n",
    "4. Plot ‘x’ versus ‘y’ \n",
    "\n",
    "5. Get average of elements in second column of the data frame\n"
   ]
  },
  {
   "cell_type": "code",
   "execution_count": 13,
   "metadata": {},
   "outputs": [
    {
     "name": "stdout",
     "output_type": "stream",
     "text": [
      "The numpy array is :\n",
      " [[ 0  0]\n",
      " [ 1  1]\n",
      " [ 2  4]\n",
      " [ 3  9]\n",
      " [ 4 16]\n",
      " [ 5 25]]\n",
      "The shape of numpy array is: \n",
      " (6, 2)\n",
      "The average of second column of Data frame is: \n",
      " 9.166666666666666\n"
     ]
    },
    {
     "data": {
      "image/png": "[encoded data removed]",
      "text/plain": [
       "<Figure size 432x288 with 1 Axes>"
      ]
     },
     "metadata": {},
     "output_type": "display_data"
    }
   ],
   "source": [
    " %matplotlib inline                   # All the required import statements for this question\n",
    " import matplotlib.pyplot as plt\n",
    " import numpy as np\n",
    " import pandas as pd             \n",
    " a=np.array([[0,0] ,[1,1],[2,4],[3,9],[4,16],[5,25]])\n",
    " print (\"The numpy array is :\\n\",a)\n",
    " print(\"The shape of numpy array is: \\n\",a.shape)\n",
    " b=pd.DataFrame ( {'X' :[0,1,2,3,4,5] , 'Y' :[0,1,4,9,16,25]} )\n",
    " X=np.linspace(0,5,6)                 # Setting the linspaces according to values in X column of Data Frame\n",
    " Y=b.Y\n",
    " plt.plot(X,Y,marker='o')\n",
    " plt.xlabel('X Column of Data Frame')\n",
    " plt.ylabel('Y Column of Data Frame')\n",
    " Avg= sum(b.Y)/len(b.Y)                 #Using the inbuild len and sum functions\n",
    " print(\"The average of second column of Data frame is: \\n\",Avg)\n"
   ]
  },
  {
   "cell_type": "code",
   "execution_count": null,
   "metadata": {
    "collapsed": true
   },
   "outputs": [],
   "source": [
    "# Add you code here"
   ]
  }
 ],
 "metadata": {
  "kernelspec": {
   "display_name": "Python 3",
   "language": "python",
   "name": "python3"
  },
  "language_info": {
   "codemirror_mode": {
    "name": "ipython",
    "version": 3
   },
   "file_extension": ".py",
   "mimetype": "text/x-python",
   "name": "python",
   "nbconvert_exporter": "python",
   "pygments_lexer": "ipython3",
   "version": "3.6.5"
  }
 },
 "nbformat": 4,
 "nbformat_minor": 2
}
